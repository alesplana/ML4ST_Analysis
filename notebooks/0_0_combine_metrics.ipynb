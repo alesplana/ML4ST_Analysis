{
 "cells": [
  {
   "cell_type": "code",
   "execution_count": 4,
   "metadata": {},
   "outputs": [
    {
     "name": "stdout",
     "output_type": "stream",
     "text": [
      "Index(['Time_step', 'Label', 'Transaction_Id', 'Transaction_Type',\n",
      "       'std_txn_type', 'std_txn_method', 'is_credit', 'USD_amount', 'party_Id',\n",
      "       'party_Account', 'party_Country', 'cparty_Id', 'cparty_Account',\n",
      "       'cparty_Country', 'txn_time_hr', 'txn_time_mm', 'txn_age_days',\n",
      "       'prev_std_txn_type', 'prev_std_txn_method', 'prev_USD_amount',\n",
      "       'prev_age_delta', 'volume_7d_sum', 'velocity_7d_count',\n",
      "       'stat_7d_median', 'stat_7d_mad', 'under_threshold_7d_count',\n",
      "       'under_threshold_7d_sum', 'volume_14d_sum', 'velocity_14d_count',\n",
      "       'stat_14d_median', 'stat_14d_mad', 'under_threshold_14d_count',\n",
      "       'under_threshold_14d_sum', 'volume_30d_sum', 'velocity_30d_count',\n",
      "       'stat_30d_median', 'stat_30d_mad', 'under_threshold_30d_count',\n",
      "       'under_threshold_30d_sum', 'is_crossborder', 'stat_7d_modzscr',\n",
      "       'stat_14d_modzscr', 'stat_30d_modzscr'],\n",
      "      dtype='object')\n",
      "Index(['Time_step', 'Label', 'Transaction_Id', 'Transaction_Type',\n",
      "       'std_txn_type', 'std_txn_method', 'is_credit', 'USD_amount', 'party_Id',\n",
      "       'party_Account', 'party_Country', 'cparty_Id', 'cparty_Account',\n",
      "       'cparty_Country', 'txn_time_hr', 'txn_time_mm', 'txn_age_days',\n",
      "       'prev_std_txn_type', 'prev_std_txn_method', 'prev_USD_amount',\n",
      "       'prev_age_delta', 'volume_7d_sum', 'velocity_7d_count',\n",
      "       'stat_7d_median', 'stat_7d_mad', 'under_threshold_7d_count',\n",
      "       'under_threshold_7d_sum', 'volume_14d_sum', 'velocity_14d_count',\n",
      "       'stat_14d_median', 'stat_14d_mad', 'under_threshold_14d_count',\n",
      "       'under_threshold_14d_sum', 'volume_30d_sum', 'velocity_30d_count',\n",
      "       'stat_30d_median', 'stat_30d_mad', 'under_threshold_30d_count',\n",
      "       'under_threshold_30d_sum', 'is_crossborder', 'stat_7d_modzscr',\n",
      "       'stat_14d_modzscr', 'stat_30d_modzscr'],\n",
      "      dtype='object')\n"
     ]
    }
   ],
   "source": [
    "import pandas as pd\n",
    "\n",
    "df1 = pd.read_parquet('../data/jp_morgan/sorted/transaction_metrics_final_aml_v4_cbflag_mod.parquet')\n",
    "df2 = pd.read_parquet('../data/jp_morgan/sorted/transaction_metrics_final_fraud_v4_cbflag_mod.parquet')\n",
    "\n",
    "print(df1.columns)\n",
    "print(df2.columns)"
   ]
  },
  {
   "cell_type": "code",
   "execution_count": 5,
   "metadata": {},
   "outputs": [],
   "source": [
    "df1_bwn = pd.read_parquet('../data/graph/aml/betweenness.parquet').reset_index()\n",
    "df1_deg = pd.read_parquet('../data/graph/aml/degree.parquet').reset_index()\n",
    "df1_wdg = pd.read_parquet('../data/graph/aml/weighted_degree.parquet').reset_index()\n",
    "\n",
    "# recreate df2 because you saved the wrong files in v4\n",
    "# use the train test split\n",
    "df2_bwn = pd.read_parquet('../data/graph/fraud/betweenness.parquet').reset_index()\n",
    "df2_deg = pd.read_parquet('../data/graph/fraud/degree.parquet').reset_index()\n",
    "df2_wdg = pd.read_parquet('../data/graph/fraud/weighted_degree.parquet').reset_index()"
   ]
  },
  {
   "cell_type": "code",
   "execution_count": 6,
   "metadata": {},
   "outputs": [],
   "source": [
    "def add_graph_acct_ids(df):\n",
    "    def create_account_id(id_col, account_col):\n",
    "        if pd.isna(id_col) and pd.isna(account_col):\n",
    "            return None\n",
    "        elif pd.isna(id_col):\n",
    "            return account_col\n",
    "        elif pd.isna(account_col):\n",
    "            return id_col\n",
    "        else:\n",
    "            return f'{id_col}_{account_col}'\n",
    "\n",
    "    df['party_account_id'] = df.apply(lambda row: create_account_id(row['party_Id'], row['party_Account']), axis=1)\n",
    "    df['cparty_account_id'] = df.apply(lambda row: create_account_id(row['cparty_Id'], row['cparty_Account']), axis=1)\n",
    "\n",
    "    return df\n",
    "\n",
    "df1 = add_graph_acct_ids(df1)\n",
    "df2 = add_graph_acct_ids(df2)"
   ]
  },
  {
   "cell_type": "code",
   "execution_count": 7,
   "metadata": {},
   "outputs": [],
   "source": [
    "df1_bwn.columns = ['node_id', 'graph_metric_btw']\n",
    "df1_deg.columns = ['node_id', 'graph_metric_deg']\n",
    "df1_wdg.columns = ['node_id', 'graph_metric_wdg']\n",
    "\n",
    "df2_bwn.columns = ['node_id', 'graph_metric_btw']\n",
    "df2_deg.columns = ['node_id', 'graph_metric_deg']\n",
    "df2_wdg.columns = ['node_id', 'graph_metric_wdg']"
   ]
  },
  {
   "cell_type": "code",
   "execution_count": 21,
   "metadata": {},
   "outputs": [],
   "source": [
    "test_df = df1.copy()"
   ]
  },
  {
   "cell_type": "code",
   "execution_count": 23,
   "metadata": {},
   "outputs": [],
   "source": [
    "df1 = df1.merge(df1_bwn, how='left', left_on='party_Id', right_on='node_id',).drop('node_id', axis=1).rename(columns={'graph_metric_btw': 'party_entity_btw'})\n",
    "df1 = df1.merge(df1_deg, how='left', left_on='party_Id', right_on='node_id',).drop('node_id', axis=1).rename(columns={'graph_metric_deg': 'party_entity_deg'})\n",
    "\n",
    "df1 = df1.merge(df1_bwn, how='left', left_on='party_account_id', right_on='node_id',).drop('node_id', axis=1).rename(columns={'graph_metric_btw': 'party_account_btw'})\n",
    "df1 = df1.merge(df1_deg, how='left', left_on='party_account_id', right_on='node_id',).drop('node_id', axis=1).rename(columns={'graph_metric_deg': 'party_account_deg'})\n",
    "\n",
    "df1 = df1.merge(df1_bwn, how='left', left_on='cparty_Id', right_on='node_id',).drop('node_id', axis=1).rename(columns={'graph_metric_btw': 'cparty_l1_btw'})\n",
    "df1 = df1.merge(df1_deg, how='left', left_on='cparty_Id', right_on='node_id',).drop('node_id', axis=1).rename(columns={'graph_metric_deg': 'cparty_l1_deg'})\n",
    "\n",
    "df1 = df1.merge(df1_bwn, how='left', left_on='cparty_account_id', right_on='node_id',).drop('node_id', axis=1).rename(columns={'graph_metric_btw': 'cparty_l2_btw'})\n",
    "df1 = df1.merge(df1_deg, how='left', left_on='cparty_account_id', right_on='node_id',).drop('node_id', axis=1).rename(columns={'graph_metric_deg': 'cparty_l2_deg'})\n",
    "\n",
    "# First create cparty_is_cash indicator and set its zeros\n",
    "df1['cparty_is_cash'] = df1['cparty_Id'].isna().astype(int)\n",
    "cash_columns = ['cparty_l1_btw', 'cparty_l1_deg', 'cparty_l2_btw', 'cparty_l2_deg']\n",
    "df1.loc[df1['cparty_is_cash'] == 1, cash_columns] = 0\n",
    "\n",
    "# Create standalone indicator and set l2 columns to zero\n",
    "df1['cparty_is_standalone'] = (\n",
    "    (~df1['cparty_Id'].isna()) & \n",
    "    (df1['cparty_Account'].isna())\n",
    ").astype(int)\n",
    "l2_columns = ['cparty_l2_btw', 'cparty_l2_deg']\n",
    "df1.loc[df1['cparty_is_standalone'] == 1, l2_columns] = 0\n",
    "\n",
    "# Account indicator remains the same\n",
    "df1['cparty_is_account'] = (\n",
    "    (~df1['cparty_Id'].isna()) & \n",
    "    (~df1['cparty_Account'].isna())\n",
    ").astype(int)\n",
    "\n",
    "df1 = df1.drop(['party_account_id', 'cparty_account_id'], axis=1)"
   ]
  },
  {
   "cell_type": "code",
   "execution_count": 24,
   "metadata": {},
   "outputs": [],
   "source": [
    "df2 = df2.merge(df2_bwn, how='left', left_on='party_Id', right_on='node_id',).drop('node_id', axis=1).rename(columns={'graph_metric_btw': 'party_entity_btw'})\n",
    "df2 = df2.merge(df2_deg, how='left', left_on='party_Id', right_on='node_id',).drop('node_id', axis=1).rename(columns={'graph_metric_deg': 'party_entity_deg'})\n",
    "\n",
    "df2 = df2.merge(df2_bwn, how='left', left_on='party_account_id', right_on='node_id',).drop('node_id', axis=1).rename(columns={'graph_metric_btw': 'party_account_btw'})\n",
    "df2 = df2.merge(df2_deg, how='left', left_on='party_account_id', right_on='node_id',).drop('node_id', axis=1).rename(columns={'graph_metric_deg': 'party_account_deg'})\n",
    "\n",
    "df2 = df2.merge(df2_bwn, how='left', left_on='cparty_Id', right_on='node_id',).drop('node_id', axis=1).rename(columns={'graph_metric_btw': 'cparty_l1_btw'})\n",
    "df2 = df2.merge(df2_deg, how='left', left_on='cparty_Id', right_on='node_id',).drop('node_id', axis=1).rename(columns={'graph_metric_deg': 'cparty_l1_deg'})\n",
    "\n",
    "df2 = df2.merge(df2_bwn, how='left', left_on='cparty_account_id', right_on='node_id',).drop('node_id', axis=1).rename(columns={'graph_metric_btw': 'cparty_l2_btw'})\n",
    "df2 = df2.merge(df2_deg, how='left', left_on='cparty_account_id', right_on='node_id',).drop('node_id', axis=1).rename(columns={'graph_metric_deg': 'cparty_l2_deg'})\n",
    "\n",
    "# First create cparty_is_cash indicator and set its zeros\n",
    "df2['cparty_is_cash'] = df2['cparty_Id'].isna().astype(int)\n",
    "df2.loc[df2['cparty_is_cash'] == 1, cash_columns] = 0\n",
    "\n",
    "# Create standalone indicator and set l2 columns to zero\n",
    "df2['cparty_is_standalone'] = (\n",
    "    (~df2['cparty_Id'].isna()) & \n",
    "    (df2['cparty_Account'].isna())\n",
    ").astype(int)\n",
    "df2.loc[df2['cparty_is_standalone'] == 1, l2_columns] = 0\n",
    "\n",
    "# Account indicator remains the same\n",
    "df2['cparty_is_account'] = (\n",
    "    (~df2['cparty_Id'].isna()) & \n",
    "    (~df2['cparty_Account'].isna())\n",
    ").astype(int)\n",
    "\n",
    "df2 = df2.drop(['party_account_id', 'cparty_account_id'], axis=1)\n"
   ]
  },
  {
   "cell_type": "code",
   "execution_count": null,
   "metadata": {},
   "outputs": [],
   "source": []
  }
 ],
 "metadata": {
  "kernelspec": {
   "display_name": "Python 3",
   "language": "python",
   "name": "python3"
  },
  "language_info": {
   "codemirror_mode": {
    "name": "ipython",
    "version": 3
   },
   "file_extension": ".py",
   "mimetype": "text/x-python",
   "name": "python",
   "nbconvert_exporter": "python",
   "pygments_lexer": "ipython3",
   "version": "3.11.10"
  }
 },
 "nbformat": 4,
 "nbformat_minor": 2
}
