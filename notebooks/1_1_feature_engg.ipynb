{
 "cells": [
  {
   "cell_type": "code",
   "execution_count": 8,
   "metadata": {},
   "outputs": [],
   "source": [
    "import pandas as pd\n",
    "\n",
    "data_dir = '../data/jp_morgan/sorted'\n",
    "data_ = 'ds3'\n",
    "\n",
    "sampling = False\n",
    "if sampling:\n",
    "    data_name = f'sample_{data_}'\n",
    "else:\n",
    "    data_name = f'final_{data_}_v3'\n",
    "\n",
    "df = pd.read_parquet(f'{data_dir}/transaction_metrics_{data_name}.parquet')"
   ]
  },
  {
   "cell_type": "markdown",
   "metadata": {},
   "source": [
    "### Crossborder Flag"
   ]
  },
  {
   "cell_type": "code",
   "execution_count": 9,
   "metadata": {},
   "outputs": [],
   "source": [
    "def pd_add_crossborder_flag(df):\n",
    "    party_country_df = df.groupby('party_Id').agg({'party_Country': lambda x: pd.Series.mode(x)[0] if not pd.Series.mode(x).empty else None})\n",
    "    party_country_df.columns = ['entity_Country']\n",
    "\n",
    "    df_cols = df.columns.tolist() + ['is_crossborder']\n",
    "\n",
    "    df= df.merge(party_country_df, how='left', left_on='party_Id', right_index=True)\n",
    "    df['is_crossborder'] = (~((df['party_Country'] == df['cparty_Country']) | ((df['cparty_Country'].isnull()) & (df['party_Country'] == df['entity_Country'])))).astype(int)\n",
    "\n",
    "    return df[df_cols]\n",
    "\n",
    "df = pd_add_crossborder_flag(df)"
   ]
  },
  {
   "cell_type": "code",
   "execution_count": 10,
   "metadata": {},
   "outputs": [],
   "source": [
    "df.to_parquet(f'{data_dir}/transaction_metrics_{data_name}_cbflag.parquet')"
   ]
  },
  {
   "cell_type": "code",
   "execution_count": null,
   "metadata": {},
   "outputs": [],
   "source": []
  }
 ],
 "metadata": {
  "kernelspec": {
   "display_name": "mscds_dsrtn",
   "language": "python",
   "name": "python3"
  },
  "language_info": {
   "codemirror_mode": {
    "name": "ipython",
    "version": 3
   },
   "file_extension": ".py",
   "mimetype": "text/x-python",
   "name": "python",
   "nbconvert_exporter": "python",
   "pygments_lexer": "ipython3",
   "version": "3.11.10"
  }
 },
 "nbformat": 4,
 "nbformat_minor": 2
}
