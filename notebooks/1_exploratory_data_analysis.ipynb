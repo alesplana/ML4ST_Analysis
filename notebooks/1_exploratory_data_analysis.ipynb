{
 "cells": [
  {
   "cell_type": "code",
   "execution_count": 2,
   "metadata": {},
   "outputs": [],
   "source": [
    "import pandas as pd\n",
    "import polars as pl\n",
    "import numpy as np\n",
    "import matplotlib.pyplot as plt\n",
    "import seaborn as sns\n",
    "from typing import List, Tuple, Optional\n",
    "import plotly.graph_objects as go"
   ]
  },
  {
   "cell_type": "code",
   "execution_count": 3,
   "metadata": {},
   "outputs": [],
   "source": [
    "def plot_amount_distributions(\n",
    "    *dataframes: pd.DataFrame,\n",
    "    dataset_names: Optional[List[str]] = None,\n",
    "    amount_col: str = 'amount',\n",
    "    label_col: str = 'label',\n",
    "    log_scale: bool = False,\n",
    "    figsize: Tuple[int, int] = (12, 6),\n",
    "    return_stats: bool = True\n",
    ") -> Tuple[plt.Figure, Optional[pd.DataFrame]]:\n",
    "    \"\"\"\n",
    "    Creates a horizontal box plot comparing amount distributions across multiple datasets.\n",
    "    \n",
    "    Parameters:\n",
    "    -----------\n",
    "    *dataframes : variable number of pandas DataFrames\n",
    "        Each DataFrame should contain amount and label columns\n",
    "    dataset_names : list of str, optional\n",
    "        Names for each dataset. If None, will use \"Dataset 1\", \"Dataset 2\", etc.\n",
    "    amount_col : str, default='amount'\n",
    "        Name of the column containing transaction amounts\n",
    "    label_col : str, default='label'\n",
    "        Name of the column containing fraud/non-fraud labels\n",
    "    log_scale : bool, default=False\n",
    "        Whether to use log scale for amount axis\n",
    "    figsize : tuple, default=(12, 6)\n",
    "        Figure size (width, height)\n",
    "    return_stats : bool, default=True\n",
    "        Whether to return statistics DataFrame\n",
    "        \n",
    "    Returns:\n",
    "    --------\n",
    "    fig : matplotlib figure\n",
    "        The generated figure\n",
    "    stats_df : pandas DataFrame, optional\n",
    "        Summary statistics for each dataset and label combination\n",
    "    \"\"\"\n",
    "    # Validate and prepare data\n",
    "    if dataset_names is None:\n",
    "        dataset_names = [f\"Dataset {i+1}\" for i in range(len(dataframes))]\n",
    "    \n",
    "    if len(dataset_names) != len(dataframes):\n",
    "        raise ValueError(\"Number of dataset names must match number of dataframes\")\n",
    "\n",
    "    # Prepare data for plotting\n",
    "    plot_data = []\n",
    "    stats_data = []\n",
    "    \n",
    "    for df, name in zip(dataframes, dataset_names):\n",
    "        for label in sorted(df[label_col].unique()):\n",
    "            mask = df[label_col] == label\n",
    "            subset = df[mask][amount_col]\n",
    "            \n",
    "            # Prepare plot data\n",
    "            plot_data.append({\n",
    "                'amounts': subset,\n",
    "                'dataset': name,\n",
    "                'label': f'{\"Bad\" if label else \"Good\"}'\n",
    "            })\n",
    "            \n",
    "            # Calculate statistics\n",
    "            stats = subset.describe(percentiles=[.25, .75])\n",
    "            stats_data.append({\n",
    "                'Dataset-Label': f'{name}-{\"Bad\" if label else \"Good\"}',\n",
    "                'Count': len(subset),\n",
    "                'Mean': stats['mean'],\n",
    "                'Median': stats['50%'],\n",
    "                'Std': stats['std'],\n",
    "                'Min': stats['min'],\n",
    "                '25%': stats['25%'],\n",
    "                '75%': stats['75%'],\n",
    "                'Max': stats['max'],\n",
    "                'Outliers%': (len(subset[subset > stats['75%'] + 1.5*(stats['75%'] - stats['25%'])]) +\n",
    "                             len(subset[subset < stats['25%'] - 1.5*(stats['75%'] - stats['25%'])])) / len(subset) * 100\n",
    "            })\n",
    "\n",
    "    # Create figure\n",
    "    fig, ax = plt.subplots(figsize=figsize)\n",
    "    \n",
    "    # Plot boxes\n",
    "    positions = np.arange(len(plot_data))\n",
    "    boxes = []\n",
    "    \n",
    "    for i, data in enumerate(plot_data):\n",
    "        box = ax.boxplot(data['amounts'], \n",
    "                        positions=[i],\n",
    "                        vert=False,\n",
    "                        patch_artist=True)\n",
    "        \n",
    "        # Style based on Good/Bad\n",
    "        color = 'lightcoral' if data['label'] == 'Bad' else 'lightgreen'\n",
    "        box['boxes'][0].set_facecolor(color)\n",
    "        box['medians'][0].set_color('black')\n",
    "        boxes.append(box)\n",
    "    \n",
    "    # Add dataset separation lines\n",
    "    for i in range(len(dataframes)-1):\n",
    "        pos = (i + 1) * 2 - 0.5\n",
    "        ax.axhline(y=pos, color='gray', linestyle='--', alpha=0.5)\n",
    "\n",
    "    # Customize plot\n",
    "    ax.set_title('Transaction Amount Distribution by Dataset and Label')\n",
    "    ax.set_xlabel('Amount')\n",
    "    if log_scale:\n",
    "        ax.set_xscale('log')\n",
    "    \n",
    "    # Set y-axis labels\n",
    "    ax.set_yticks(positions)\n",
    "    ax.set_yticklabels([f\"{d['dataset']}\\n{d['label']}\" for d in plot_data])\n",
    "    \n",
    "    # Create statistics DataFrame\n",
    "    stats_df = pd.DataFrame(stats_data).set_index('Dataset-Label') if return_stats else None\n",
    "    \n",
    "    plt.tight_layout()\n",
    "    return fig, stats_df\n",
    "\n",
    "def plot_amount_distributions_with_outliers(\n",
    "    *dataframes: pd.DataFrame,\n",
    "    dataset_names: Optional[List[str]] = None,\n",
    "    amount_col: str = 'amount',\n",
    "    label_col: str = 'label',\n",
    "    figsize: Tuple[int, int] = (15, 10),\n",
    "    percentile_range: Tuple[int, int] = (1, 99),\n",
    "    return_stats: bool = True\n",
    "):\n",
    "    \"\"\"Modified version with improved visualization\"\"\"\n",
    "    if dataset_names is None:\n",
    "        dataset_names = [f\"Dataset {i+1}\" for i in range(len(dataframes))]\n",
    "    \n",
    "    # Create figure with two subplots\n",
    "    fig, (ax1, ax2) = plt.subplots(2, 1, figsize=figsize, height_ratios=[2, 1], gridspec_kw={'hspace': 0.3})\n",
    "    \n",
    "    # Define colors\n",
    "    colors = {'Good': '#2ecc71', 'Bad': '#e74c3c'}  # Stronger colors\n",
    "    \n",
    "    # Prepare data\n",
    "    plot_data = []\n",
    "    stats_data = []\n",
    "    \n",
    "    for df, name in zip(dataframes, dataset_names):\n",
    "        for label in sorted(df[label_col].unique()):\n",
    "            mask = df[label_col] == label\n",
    "            subset = df[mask][amount_col]\n",
    "            \n",
    "            # Calculate percentile bounds\n",
    "            lower = np.percentile(subset, percentile_range[0])\n",
    "            upper = np.percentile(subset, percentile_range[1])\n",
    "            \n",
    "            # Split data\n",
    "            main_data = subset[(subset >= lower) & (subset <= upper)]\n",
    "            outliers = subset[(subset < lower) | (subset > upper)]\n",
    "            \n",
    "            label_str = 'Good' if label == 0 else 'Bad'\n",
    "            plot_data.append({\n",
    "                'amounts': main_data,\n",
    "                'outliers': outliers,\n",
    "                'dataset': name,\n",
    "                'label': label_str,\n",
    "                'color': colors[label_str]\n",
    "            })\n",
    "            \n",
    "            # Calculate statistics\n",
    "            stats = subset.describe(percentiles=[.25, .75])\n",
    "            stats_data.append({\n",
    "                'Dataset-Label': f'{name}-{label_str}',\n",
    "                'Count': len(subset),\n",
    "                'Mean': stats['mean'],\n",
    "                'Median': stats['50%'],\n",
    "                'Std': stats['std'],\n",
    "                'Min': stats['min'],\n",
    "                '25%': stats['25%'],\n",
    "                '75%': stats['75%'],\n",
    "                'Max': stats['max'],\n",
    "                'Outliers%': len(outliers) / len(subset) * 100\n",
    "            })\n",
    "    \n",
    "    # Plot main distributions\n",
    "    positions = np.arange(len(plot_data))\n",
    "    \n",
    "    # Main boxplot\n",
    "    for i, data in enumerate(plot_data):\n",
    "        box = ax1.boxplot(data['amounts'],\n",
    "                         positions=[i],\n",
    "                         vert=False,\n",
    "                         patch_artist=True,\n",
    "                         widths=0.7,\n",
    "                         medianprops={'color': 'black', 'linewidth': 1.5},\n",
    "                         flierprops={'marker': 'o', 'markerfacecolor': data['color'], 'alpha': 0.7})\n",
    "        \n",
    "        # Color the boxes\n",
    "        plt.setp(box['boxes'], facecolor=data['color'], alpha=0.6)\n",
    "        plt.setp(box['whiskers'], color=data['color'])\n",
    "        plt.setp(box['caps'], color=data['color'])\n",
    "    \n",
    "    # Outliers plot\n",
    "    for i, data in enumerate(plot_data):\n",
    "        if len(data['outliers']) > 0:\n",
    "            ax2.scatter(data['outliers'],\n",
    "                       [i] * len(data['outliers']),\n",
    "                       c=data['color'],\n",
    "                       alpha=0.7,\n",
    "                       s=100,  # Larger dots\n",
    "                       label=f\"{data['dataset']} {data['label']}\")\n",
    "    \n",
    "    # Add dataset separation lines\n",
    "    for i in range(len(dataframes)-1):\n",
    "        pos = (i + 1) * 2 - 0.5\n",
    "        ax1.axhline(y=pos, color='gray', linestyle='--', alpha=0.5)\n",
    "        ax2.axhline(y=pos, color='gray', linestyle='--', alpha=0.5)\n",
    "    \n",
    "    # Customize plots\n",
    "    ax1.set_title(f'Transaction Amount Distribution ({percentile_range[0]}-{percentile_range[1]} percentile)', \n",
    "                  pad=20, fontsize=12)\n",
    "    ax2.set_title('Outliers Distribution', pad=20, fontsize=12)\n",
    "    \n",
    "    # Set labels and ticks\n",
    "    for ax in [ax1, ax2]:\n",
    "        ax.set_xlabel('Amount', fontsize=10)\n",
    "        ax.set_yticks(positions)\n",
    "        ax.set_yticklabels([f\"{d['dataset']}\\n{d['label']}\" for d in plot_data], \n",
    "                          fontsize=10)\n",
    "        ax.grid(True, axis='x', linestyle='--', alpha=0.3)\n",
    "    \n",
    "    # Add legend to outliers plot\n",
    "    ax2.legend(bbox_to_anchor=(1.05, 1), loc='upper left')\n",
    "    \n",
    "    # Adjust layout\n",
    "    plt.tight_layout()\n",
    "    \n",
    "    # Create statistics DataFrame\n",
    "    stats_df = pd.DataFrame(stats_data).set_index('Dataset-Label') if return_stats else None\n",
    "    \n",
    "    return fig, stats_df"
   ]
  },
  {
   "cell_type": "code",
   "execution_count": 4,
   "metadata": {},
   "outputs": [
    {
     "name": "stdout",
     "output_type": "stream",
     "text": [
      "               Count          Mean  Median            Std     Min     25%  \\\n",
      "Dataset-Label                                                               \n",
      "Training-Good      3    200.000000   200.0     100.000000   100.0   150.0   \n",
      "Training-Bad       3  35333.333333  5000.0   56038.677120  1000.0  3000.0   \n",
      "Test-Good          3    250.000000   250.0     100.000000   150.0   200.0   \n",
      "Test-Bad           3  69333.333333  6000.0  113178.325369  2000.0  4000.0   \n",
      "\n",
      "                    75%       Max  Outliers%  \n",
      "Dataset-Label                                 \n",
      "Training-Good     250.0     300.0        0.0  \n",
      "Training-Bad    52500.0  100000.0        0.0  \n",
      "Test-Good         300.0     350.0        0.0  \n",
      "Test-Bad       103000.0  200000.0        0.0  \n"
     ]
    },
    {
     "name": "stderr",
     "output_type": "stream",
     "text": [
      "C:\\Users\\al2-esplana\\AppData\\Local\\Temp\\ipykernel_24588\\1550686821.py:224: UserWarning: No artists with labels found to put in legend.  Note that artists whose label start with an underscore are ignored when legend() is called with no argument.\n",
      "  ax2.legend(bbox_to_anchor=(1.05, 1), loc='upper left')\n",
      "C:\\Users\\al2-esplana\\AppData\\Local\\Temp\\ipykernel_24588\\1550686821.py:227: UserWarning: This figure includes Axes that are not compatible with tight_layout, so results might be incorrect.\n",
      "  plt.tight_layout()\n"
     ]
    },
    {
     "data": {
      "image/png": "[encoded data removed]",
      "text/plain": [
       "<Figure size 1200x600 with 1 Axes>"
      ]
     },
     "metadata": {},
     "output_type": "display_data"
    },
    {
     "data": {
      "image/png": "[encoded data removed]",
      "text/plain": [
       "<Figure size 1500x1000 with 2 Axes>"
      ]
     },
     "metadata": {},
     "output_type": "display_data"
    }
   ],
   "source": [
    "# Test Code:\n",
    "# Example usage\n",
    "df1 = pd.DataFrame({\n",
    "    'amount': [100, 200, 300, 1000, 5000, 100000],\n",
    "    'label': [0, 0, 0, 1, 1, 1]  # 0 for good, 1 for bad\n",
    "})\n",
    "\n",
    "df2 = pd.DataFrame({\n",
    "    'amount': [150, 250, 350, 2000, 6000, 200000],\n",
    "    'label': [0, 0, 0, 1, 1, 1]\n",
    "})\n",
    "\n",
    "# For regular box plot\n",
    "fig1, stats1 = plot_amount_distributions(\n",
    "    df1, df2,\n",
    "    dataset_names=['Training', 'Test'],\n",
    "    log_scale=False\n",
    ")\n",
    "\n",
    "# For box plot with separate outliers visualization\n",
    "fig2, stats2 = plot_amount_distributions_with_outliers(\n",
    "    df1, df2,\n",
    "    dataset_names=['Training', 'Test'],\n",
    "    percentile_range=(0,100)\n",
    ")\n",
    "\n",
    "# Display statistics\n",
    "print(stats1)  # or stats2"
   ]
  },
  {
   "cell_type": "code",
   "execution_count": 3,
   "metadata": {},
   "outputs": [],
   "source": [
    "df1 = pd.read_parquet('../data/jp_morgan/sorted/transaction_metrics_final_aml_v3_cbflag.parquet')\n",
    "aml_data = df1[['USD_amount', 'Label']].copy()\n",
    "aml_data.columns = ['amount', 'label']\n",
    "\n",
    "df2 = pd.read_parquet('../data/jp_morgan/sorted/transaction_metrics_final_ds3_v3_cbflag.parquet')\n",
    "fraud_data = df2[['USD_amount', 'Label']].copy()\n",
    "fraud_data.columns = ['amount', 'label']\n",
    "\n",
    "df3 = pd.read_parquet('../data/jp_morgan/sorted/transaction_metrics_final_fraud_v3_cbflag.parquet')\n",
    "combined_data = df2[['USD_amount', 'Label']].copy()\n",
    "combined_data.columns = ['amount', 'label']"
   ]
  },
  {
   "cell_type": "code",
   "execution_count": 6,
   "metadata": {},
   "outputs": [
    {
     "data": {
      "image/png": "[encoded data removed]",
      "text/plain": [
       "<Figure size 1200x600 with 1 Axes>"
      ]
     },
     "metadata": {},
     "output_type": "display_data"
    }
   ],
   "source": [
    "# For regular box plot\n",
    "fig1, stats1 = plot_amount_distributions(\n",
    "    aml_data, fraud_data,\n",
    "    dataset_names=['AML', 'Fraud'],\n",
    "    log_scale=True\n",
    ")\n",
    "\n",
    "# EDA to Figures\n",
    "# Just exploring the data, summary of data (1-2 lines)"
   ]
  },
  {
   "cell_type": "code",
   "execution_count": 7,
   "metadata": {},
   "outputs": [
    {
     "name": "stderr",
     "output_type": "stream",
     "text": [
      "C:\\Users\\al2-esplana\\AppData\\Local\\Temp\\ipykernel_24588\\1550686821.py:227: UserWarning: This figure includes Axes that are not compatible with tight_layout, so results might be incorrect.\n",
      "  plt.tight_layout()\n"
     ]
    },
    {
     "data": {
      "image/png": "[encoded data removed]",
      "text/plain": [
       "<Figure size 1500x1000 with 2 Axes>"
      ]
     },
     "metadata": {},
     "output_type": "display_data"
    }
   ],
   "source": [
    "# For box plot with separate outliers visualization\n",
    "fig2, stats2 = plot_amount_distributions_with_outliers(\n",
    "    aml_data, fraud_data,\n",
    "    dataset_names=['AML', 'Fraud'],\n",
    "    percentile_range=(20,80)\n",
    ")\n"
   ]
  },
  {
   "cell_type": "code",
   "execution_count": 8,
   "metadata": {},
   "outputs": [
    {
     "name": "stdout",
     "output_type": "stream",
     "text": [
      "                 Count           Mean     Median            Std    Min  \\\n",
      "Dataset-Label                                                            \n",
      "AML-Good       1108321    3985.726934    3979.69    3549.537790    0.0   \n",
      "AML-Bad         282843  688144.471417  500086.00  668522.682488   17.0   \n",
      "Fraud-Good     1467358     506.455339     401.19     459.143294    0.0   \n",
      "Fraud-Bad        30819     847.442043     512.23    2003.566402  100.0   \n",
      "\n",
      "                      25%         75%          Max  Outliers%  \n",
      "Dataset-Label                                                  \n",
      "AML-Good          833.190    5818.210     99714.24   0.215641  \n",
      "AML-Bad        363249.000  829291.000  19300001.00   7.096870  \n",
      "Fraud-Good        135.530     733.030     19854.49   4.899895  \n",
      "Fraud-Bad         254.115     773.975     19998.94   3.225283  \n"
     ]
    }
   ],
   "source": [
    "print(stats1)"
   ]
  },
  {
   "cell_type": "code",
   "execution_count": 9,
   "metadata": {},
   "outputs": [
    {
     "name": "stdout",
     "output_type": "stream",
     "text": [
      "                 Count           Mean     Median            Std    Min  \\\n",
      "Dataset-Label                                                            \n",
      "AML-Good       1108321    3985.726934    3979.69    3549.537790    0.0   \n",
      "AML-Bad         282843  688144.471417  500086.00  668522.682488   17.0   \n",
      "Fraud-Good     1467358     506.455339     401.19     459.143294    0.0   \n",
      "Fraud-Bad        30819     847.442043     512.23    2003.566402  100.0   \n",
      "\n",
      "                      25%         75%          Max  Outliers%  \n",
      "Dataset-Label                                                  \n",
      "AML-Good          833.190    5818.210     99714.24  39.999874  \n",
      "AML-Bad        363249.000  829291.000  19300001.00  39.995687  \n",
      "Fraud-Good        135.530     733.030     19854.49  39.999646  \n",
      "Fraud-Bad         254.115     773.975     19998.94  40.001298  \n"
     ]
    }
   ],
   "source": [
    "print(stats2)"
   ]
  },
  {
   "cell_type": "code",
   "execution_count": 10,
   "metadata": {},
   "outputs": [
    {
     "data": {
      "text/plain": [
       "Index(['Time_step', 'Label', 'Transaction_Id', 'Transaction_Type',\n",
       "       'std_txn_type', 'std_txn_method', 'is_credit', 'USD_amount', 'party_Id',\n",
       "       'party_Account', 'party_Country', 'cparty_Id', 'cparty_Account',\n",
       "       'cparty_Country', 'txn_time_hr', 'txn_time_mm', 'txn_age_days',\n",
       "       'prev_std_txn_type', 'prev_std_txn_method', 'prev_is_credit',\n",
       "       'prev_USD_amount', 'prev_age_delta', 'volume_7d_avg', 'volume_7d_count',\n",
       "       'volume_14d_avg', 'volume_14d_count', 'volume_30d_avg',\n",
       "       'volume_30d_count', 'volume_avg_7d_to_14d_ratio',\n",
       "       'volume_count_7d_to_14d_ratio', 'volume_avg_7d_to_30d_ratio',\n",
       "       'volume_count_7d_to_30d_ratio', 'volume_avg_14d_to_30d_ratio',\n",
       "       'volume_count_14d_to_30d_ratio', 'stat_7d_velocity',\n",
       "       'stat_14d_velocity', 'stat_30d_velocity'],\n",
       "      dtype='object')"
      ]
     },
     "execution_count": 10,
     "metadata": {},
     "output_type": "execute_result"
    }
   ],
   "source": [
    "df1.columns"
   ]
  },
  {
   "cell_type": "code",
   "execution_count": 11,
   "metadata": {},
   "outputs": [],
   "source": [
    "df1 # AML\n",
    "df = df1.copy()"
   ]
  },
  {
   "cell_type": "code",
   "execution_count": 4,
   "metadata": {},
   "outputs": [],
   "source": [
    "def txn_summary_table(df):\n",
    "    temp_df = df[['Time_step', 'Label']].copy()\n",
    "    \n",
    "    total_records = len(temp_df)\n",
    "    total_susp = len(temp_df[temp_df['Label'] == 1])\n",
    "\n",
    "    temp_df['Time_step'] = pd.to_datetime(df['Time_step'])\n",
    "    temp_df['yr_mn'] = temp_df['Time_step'].dt.to_period('M')\n",
    "\n",
    "    # Summary of label counts per year-month\n",
    "    summary_df = temp_df.groupby('yr_mn').agg(\n",
    "        label_0_count=('Label', lambda x: (x == 0).sum()),\n",
    "        label_1_count=('Label', lambda x: (x == 1).sum()),\n",
    "    )\n",
    "\n",
    "    # Fraud rate pct\n",
    "    summary_df['label_1_pct'] = summary_df['label_1_count'] / (summary_df['label_1_count'] + summary_df['label_0_count'])\n",
    "    summary_df['label_1_rep_pct'] = summary_df['label_1_count'] / total_susp\n",
    "    summary_df['label_1_cumpct'] = summary_df['label_1_rep_pct'].cumsum() * 100\n",
    "\n",
    "    # Total record pct\n",
    "    summary_df['record_pct'] = (summary_df['label_1_count'] + summary_df['label_0_count']) / total_records\n",
    "    summary_df['cum_record_pct'] = summary_df['record_pct'].cumsum() * 100\n",
    "    summary_df.index = summary_df.index.astype(str)\n",
    "\n",
    "    return summary_df.copy()\n",
    "\n",
    "aml_txn_summary = txn_summary_table(df1)\n",
    "fraud_txn_summary = txn_summary_table(df2)\n",
    "combined_txn_summary = txn_summary_table(df3)"
   ]
  },
  {
   "cell_type": "code",
   "execution_count": 5,
   "metadata": {},
   "outputs": [],
   "source": [
    "def entity_summary_table(df):\n",
    "    temp_df = df[['Time_step', 'Label', 'party_Id', 'Transaction_Id', 'USD_amount']].copy()\n",
    "\n",
    "    total_records = len(temp_df)\n",
    "    total_susp = len(temp_df[temp_df['Label'] == 1])\n",
    "    \n",
    "    temp_df['Time_step'] = pd.to_datetime(temp_df['Time_step'])\n",
    "    temp_df['txn_date'] = pd.to_datetime(temp_df['Time_step'].dt.date)\n",
    "    temp_df = temp_df.groupby('party_Id').agg(\n",
    "        Time_step=('txn_date', 'min'),\n",
    "        label_0_count=('Label', lambda x: (x == 0).sum()),\n",
    "        label_0_amount=('USD_amount', lambda x: x[temp_df['Label'] == 0].sum()),\n",
    "        label_1_count=('Label', lambda x: (x == 1).sum()),\n",
    "        label_1_amount=('USD_amount', lambda x: x[temp_df['Label'] == 1].sum()),\n",
    "        total_count=('Label', 'count'),\n",
    "        total_volume=('USD_amount', 'sum')\n",
    "    ).reset_index()\n",
    "    temp_df['yr_mn'] = temp_df['Time_step'].dt.to_period('M')\n",
    "\n",
    "    summary_df = temp_df.groupby('yr_mn').agg(\n",
    "        label_0_count=('label_0_count', 'sum'),\n",
    "        label_0_amount=('label_0_amount', 'sum'),\n",
    "        label_1_count=('label_1_count', 'sum'),\n",
    "        label_1_amount=('label_1_amount', 'sum'),\n",
    "        total_count=('total_count', 'sum'),\n",
    "        total_volume=('total_volume', 'sum')\n",
    "    )\n",
    "\n",
    "    # Fraud rate pct\n",
    "    summary_df['label_1_pct'] = summary_df['label_1_count'] / (summary_df['label_1_count'] + summary_df['label_0_count'])\n",
    "    summary_df['label_1_rep_pct'] = summary_df['label_1_count'] / total_susp\n",
    "    summary_df['label_1_cumpct'] = summary_df['label_1_rep_pct'].cumsum() * 100\n",
    "\n",
    "    # Total record pct\n",
    "    summary_df['record_pct'] = (summary_df['label_1_count'] + summary_df['label_0_count']) / total_records\n",
    "    summary_df['cum_record_pct'] = summary_df['record_pct'].cumsum() * 100\n",
    "    summary_df.index = summary_df.index.astype(str)\n",
    "\n",
    "    return summary_df.copy()\n",
    "\n",
    "aml_entity_summary = entity_summary_table(df1)\n",
    "fraud_entity_summary = entity_summary_table(df2)\n",
    "combined_entity_summary = entity_summary_table(df3)"
   ]
  },
  {
   "cell_type": "code",
   "execution_count": 6,
   "metadata": {},
   "outputs": [],
   "source": [
    "def med_entity_summary_table(df):\n",
    "    temp_df = df[['Time_step', 'Label', 'party_Id', 'Transaction_Id', 'USD_amount']].copy()\n",
    "\n",
    "    total_records = len(temp_df)\n",
    "    total_susp = len(temp_df[temp_df['Label'] == 1])\n",
    "    \n",
    "    temp_df['Time_step'] = pd.to_datetime(temp_df['Time_step'])\n",
    "    temp_df['txn_date'] = pd.to_datetime(temp_df['Time_step'].dt.date)\n",
    "    temp_df = temp_df.groupby('party_Id').agg(\n",
    "        Time_step=('txn_date', 'median'),\n",
    "        label_0_count=('Label', lambda x: (x == 0).sum()),\n",
    "        label_0_amount=('USD_amount', lambda x: x[temp_df['Label'] == 0].sum()),\n",
    "        label_1_count=('Label', lambda x: (x == 1).sum()),\n",
    "        label_1_amount=('USD_amount', lambda x: x[temp_df['Label'] == 1].sum()),\n",
    "        total_count=('Label', 'count'),\n",
    "        total_volume=('USD_amount', 'sum')\n",
    "    ).reset_index()\n",
    "    temp_df['yr_mn'] = temp_df['Time_step'].dt.to_period('M')\n",
    "\n",
    "    summary_df = temp_df.groupby('yr_mn').agg(\n",
    "        label_0_count=('label_0_count', 'sum'),\n",
    "        label_0_amount=('label_0_amount', 'sum'),\n",
    "        label_1_count=('label_1_count', 'sum'),\n",
    "        label_1_amount=('label_1_amount', 'sum'),\n",
    "        total_count=('total_count', 'sum'),\n",
    "        total_volume=('total_volume', 'sum')\n",
    "    )\n",
    "\n",
    "    # Fraud rate pct\n",
    "    summary_df['label_1_pct'] = summary_df['label_1_count'] / (summary_df['label_1_count'] + summary_df['label_0_count'])\n",
    "    summary_df['label_1_rep_pct'] = summary_df['label_1_count'] / total_susp\n",
    "    summary_df['label_1_cumpct'] = summary_df['label_1_rep_pct'].cumsum() * 100\n",
    "\n",
    "    # Total record pct\n",
    "    summary_df['record_pct'] = (summary_df['label_1_count'] + summary_df['label_0_count']) / total_records\n",
    "    summary_df['cum_record_pct'] = summary_df['record_pct'].cumsum() * 100\n",
    "    summary_df.index = summary_df.index.astype(str)\n",
    "\n",
    "    return summary_df.copy()\n",
    "\n",
    "aml_med_entity_summary = med_entity_summary_table(df1)\n",
    "fraud_med_entity_summary = med_entity_summary_table(df2)\n",
    "combined_med_entity_summary = med_entity_summary_table(df3)"
   ]
  },
  {
   "cell_type": "code",
   "execution_count": 7,
   "metadata": {},
   "outputs": [
    {
     "data": {
      "text/plain": [
       "Index(['Time_step', 'Label', 'Transaction_Id', 'Transaction_Type',\n",
       "       'std_txn_type', 'std_txn_method', 'is_credit', 'USD_amount', 'party_Id',\n",
       "       'party_Account', 'party_Country', 'cparty_Id', 'cparty_Account',\n",
       "       'cparty_Country', 'txn_time_hr', 'txn_time_mm', 'txn_age_days',\n",
       "       'prev_std_txn_type', 'prev_std_txn_method', 'prev_USD_amount',\n",
       "       'prev_age_delta', 'volume_7d_sum', 'velocity_7d_count',\n",
       "       'stat_7d_median', 'stat_7d_mad', 'under_threshold_7d_count',\n",
       "       'under_threshold_7d_sum', 'volume_14d_sum', 'velocity_14d_count',\n",
       "       'stat_14d_median', 'stat_14d_mad', 'under_threshold_14d_count',\n",
       "       'under_threshold_14d_sum', 'volume_30d_sum', 'velocity_30d_count',\n",
       "       'stat_30d_median', 'stat_30d_mad', 'under_threshold_30d_count',\n",
       "       'under_threshold_30d_sum', 'is_crossborder'],\n",
       "      dtype='object')"
      ]
     },
     "execution_count": 7,
     "metadata": {},
     "output_type": "execute_result"
    }
   ],
   "source": [
    "df1.columns"
   ]
  },
  {
   "cell_type": "code",
   "execution_count": 13,
   "metadata": {},
   "outputs": [
    {
     "name": "stderr",
     "output_type": "stream",
     "text": [
      "C:\\Users\\al2-esplana\\AppData\\Local\\Temp\\ipykernel_31508\\875234673.py:20: FutureWarning: The default of observed=False is deprecated and will be changed to True in a future version of pandas. Pass observed=False to retain current behavior or observed=True to adopt the future default and silence this warning.\n",
      "  entity_age = temp_df.groupby('age_bin').agg(\n",
      "C:\\Users\\al2-esplana\\AppData\\Local\\Temp\\ipykernel_31508\\875234673.py:40: FutureWarning: The default of observed=False is deprecated and will be changed to True in a future version of pandas. Pass observed=False to retain current behavior or observed=True to adopt the future default and silence this warning.\n",
      "  amt_pttrn = temp_df.groupby('amount_bin').agg(\n",
      "C:\\Users\\al2-esplana\\AppData\\Local\\Temp\\ipykernel_31508\\875234673.py:20: FutureWarning: The default of observed=False is deprecated and will be changed to True in a future version of pandas. Pass observed=False to retain current behavior or observed=True to adopt the future default and silence this warning.\n",
      "  entity_age = temp_df.groupby('age_bin').agg(\n",
      "C:\\Users\\al2-esplana\\AppData\\Local\\Temp\\ipykernel_31508\\875234673.py:40: FutureWarning: The default of observed=False is deprecated and will be changed to True in a future version of pandas. Pass observed=False to retain current behavior or observed=True to adopt the future default and silence this warning.\n",
      "  amt_pttrn = temp_df.groupby('amount_bin').agg(\n",
      "C:\\Users\\al2-esplana\\AppData\\Local\\Temp\\ipykernel_31508\\875234673.py:20: FutureWarning: The default of observed=False is deprecated and will be changed to True in a future version of pandas. Pass observed=False to retain current behavior or observed=True to adopt the future default and silence this warning.\n",
      "  entity_age = temp_df.groupby('age_bin').agg(\n",
      "C:\\Users\\al2-esplana\\AppData\\Local\\Temp\\ipykernel_31508\\875234673.py:40: FutureWarning: The default of observed=False is deprecated and will be changed to True in a future version of pandas. Pass observed=False to retain current behavior or observed=True to adopt the future default and silence this warning.\n",
      "  amt_pttrn = temp_df.groupby('amount_bin').agg(\n"
     ]
    }
   ],
   "source": [
    "def EDA_patterns(df, lbl=None):\n",
    "    temp_df = df[['Label', 'USD_amount', 'txn_time_hr', 'txn_time_mm', 'txn_age_days', 'std_txn_type', 'std_txn_method', 'is_crossborder', 'under_threshold_14d_count']].copy()\n",
    "    temp_df['age_bin'] = pd.cut(temp_df['txn_age_days'], bins=[0, 30, 90, 180, float('inf')], labels=['<30', '30-90', '90-180', '180+'])\n",
    "\n",
    "    amt_bins = [0, 1000, 5000, 10000, 25000, 50000, 100000, float('inf')]\n",
    "    amt_labels = ['$0-1,000', '$1,000-5,000', '$5,000-10,000', '$10,000-25,000', '$25,000-50,000', '$50,000-100,000', '$100,000+']\n",
    "    temp_df['amount_bin'] = pd.cut(temp_df['USD_amount'], bins=amt_bins, labels=amt_labels)\n",
    "\n",
    "    # Transaction Type and Method\n",
    "    txn_type_mtd = temp_df.groupby(['std_txn_type', 'std_txn_method']).agg(\n",
    "        label_0_count=('Label', lambda x: (x == 0).sum()),\n",
    "        label_0_amount=('USD_amount', lambda x: x[temp_df['Label'] == 0].sum()),\n",
    "        label_1_count=('Label', lambda x: (x == 1).sum()),\n",
    "        label_1_amount=('USD_amount', lambda x: x[temp_df['Label'] == 1].sum()),\n",
    "        total_count=('Label', 'count'),\n",
    "        total_volume=('USD_amount', 'sum')\n",
    "    ).reset_index()\n",
    "\n",
    "    # Account Age\n",
    "    entity_age = temp_df.groupby('age_bin').agg(\n",
    "        label_0_count=('Label', lambda x: (x == 0).sum()),\n",
    "        label_0_amount=('USD_amount', lambda x: x[temp_df['Label'] == 0].sum()),\n",
    "        label_1_count=('Label', lambda x: (x == 1).sum()),\n",
    "        label_1_amount=('USD_amount', lambda x: x[temp_df['Label'] == 1].sum()),\n",
    "        total_count=('Label', 'count'),\n",
    "        total_volume=('USD_amount', 'sum')\n",
    "    ).reset_index()\n",
    "\n",
    "    # Hourly Pattern\n",
    "    hr_pttrn = temp_df.groupby('txn_time_hr').agg(\n",
    "        label_0_count=('Label', lambda x: (x == 0).sum()),\n",
    "        label_0_amount=('USD_amount', lambda x: x[temp_df['Label'] == 0].sum()),\n",
    "        label_1_count=('Label', lambda x: (x == 1).sum()),\n",
    "        label_1_amount=('USD_amount', lambda x: x[temp_df['Label'] == 1].sum()),\n",
    "        total_count=('Label', 'count'),\n",
    "        total_volume=('USD_amount', 'sum')\n",
    "    ).reset_index()\n",
    "\n",
    "    # Amount\n",
    "    amt_pttrn = temp_df.groupby('amount_bin').agg(\n",
    "        label_0_count=('Label', lambda x: (x == 0).sum()),\n",
    "        label_0_amount=('USD_amount', lambda x: x[temp_df['Label'] == 0].sum()),\n",
    "        label_1_count=('Label', lambda x: (x == 1).sum()),\n",
    "        label_1_amount=('USD_amount', lambda x: x[temp_df['Label'] == 1].sum()),\n",
    "        total_count=('Label', 'count'),\n",
    "        total_volume=('USD_amount', 'sum')\n",
    "    ).reset_index()\n",
    "\n",
    "    # Crossborder\n",
    "    cb_pttrn = temp_df.groupby('is_crossborder').agg(\n",
    "        label_0_count=('Label', lambda x: (x == 0).sum()),\n",
    "        label_0_amount=('USD_amount', lambda x: x[temp_df['Label'] == 0].sum()),\n",
    "        label_1_count=('Label', lambda x: (x == 1).sum()),\n",
    "        label_1_amount=('USD_amount', lambda x: x[temp_df['Label'] == 1].sum()),\n",
    "        total_count=('Label', 'count'),\n",
    "        total_volume=('USD_amount', 'sum')\n",
    "    ).reset_index()\n",
    "\n",
    "    # Under Threshold Pattern\n",
    "    under_threshold_count_pttrn = temp_df.groupby('under_threshold_14d_count').agg(\n",
    "        label_0_count=('Label', lambda x: (x == 0).sum()),\n",
    "        label_0_amount=('USD_amount', lambda x: x[temp_df['Label'] == 0].sum()),\n",
    "        label_1_count=('Label', lambda x: (x == 1).sum()),\n",
    "        label_1_amount=('USD_amount', lambda x: x[temp_df['Label'] == 1].sum()),\n",
    "        total_count=('Label', 'count'),\n",
    "        total_volume=('USD_amount', 'sum')\n",
    "    ).reset_index()\n",
    "\n",
    "    return {'txn_type_mtd': txn_type_mtd, 'entity_age': entity_age, 'hr_pttrn': hr_pttrn, 'amt_pttrn': amt_pttrn, 'cb_pttrn': cb_pttrn, 'under_threshold_pttrn': under_threshold_count_pttrn}\n",
    "\n",
    "aml_stat = EDA_patterns(df1, 'aml')  # AML\n",
    "frd_stat = EDA_patterns(df2, 'frd')  # Fraud\n",
    "cmb_stat = EDA_patterns(df3, 'cmb')  # Combined"
   ]
  },
  {
   "cell_type": "code",
   "execution_count": 14,
   "metadata": {},
   "outputs": [],
   "source": [
    "def save_to_parquet(stat_dict, prefix):\n",
    "    for key, df in stat_dict.items():\n",
    "        filename = f\"../data/analysis/{prefix}_{key}.parquet\"\n",
    "        df.to_parquet(filename)\n",
    "\n",
    "# Save AML statistics to Parquet files\n",
    "save_to_parquet(aml_stat, 'aml')\n",
    "\n",
    "# Save Fraud statistics to Parquet files\n",
    "save_to_parquet(frd_stat, 'frd')\n",
    "\n",
    "# Save Combined statistics to Parquet files\n",
    "save_to_parquet(cmb_stat, 'cmb')"
   ]
  },
  {
   "cell_type": "code",
   "execution_count": 35,
   "metadata": {},
   "outputs": [],
   "source": [
    "import matplotlib.pyplot as plt\n",
    "import seaborn as sns\n",
    "import matplotlib.colors as mcolors\n",
    "import matplotlib.cm as cm\n",
    "import matplotlib as mpl\n",
    "\n",
    "plt.style.use('default')\n",
    "mpl.rcParams.update(mpl.rcParamsDefault)\n",
    "\n",
    "### MODIFY DEFAULT COLOUR PALETTE ###\n",
    "# Define the blue warm colors\n",
    "blue_warm_colors = [\n",
    "    (37/255, 40/255, 79/255),    # Deep Blue\n",
    "    (178/255, 202/255, 245/255), # Light Blue\n",
    "    (80/255, 101/255, 167/255),  # Medium Blue\n",
    "    (111/255, 156/255, 205/255), # Sky Blue\n",
    "    (67/255, 125/255, 207/255),  # Bright Blue\n",
    "    (130/255, 143/255, 167/255), # Gray Blue\n",
    "    (107/255, 160/255, 172/255), # Teal Blue\n",
    "    (155/255, 144/255, 159/255)  # Muted Purple\n",
    "]\n",
    "\n",
    "# Create a custom color palette\n",
    "def blue_warm_palette(n_colors=8):\n",
    "    \"\"\"Returns a Blue Warm palette with n_colors colors\"\"\"\n",
    "    if n_colors > 8:\n",
    "        raise ValueError(\"This palette only supports up to 8 colors\")\n",
    "    return blue_warm_colors[:n_colors]\n",
    "\n",
    "# Set the custom palette as the default for Seaborn\n",
    "sns.set_palette(sns.color_palette(blue_warm_colors))\n",
    "\n",
    "\n",
    "\n",
    "def plot_patterns(stats, title_prefix='', location='../data/figures', dpi=300):\n",
    "    # Transaction Type-Method\n",
    "    fig, ax = plt.subplots(figsize=(8, 6), dpi=dpi)\n",
    "    tx = stats['txn_type_mtd'].pivot(index='std_txn_type', columns='std_txn_method', \n",
    "                                    values='label_1_count')\n",
    "    sns.heatmap(tx, annot=True, fmt='g', ax=ax)\n",
    "    plt.tight_layout()\n",
    "    fig.savefig(f\"{location}/{title_prefix.lower().replace(' ', '_')}_txn_type_mtd.png\", dpi=dpi, transparent=True)\n",
    "    \n",
    "    # Account Age\n",
    "    fig, ax = plt.subplots(figsize=(8, 6), dpi=dpi)\n",
    "    df = stats['entity_age']\n",
    "    ax.bar(df['age_bin'], df['label_0_count'], label='Normal')\n",
    "    ax.bar(df['age_bin'], df['label_1_count'], bottom=df['label_0_count'], label='Suspicious')\n",
    "    ax.legend()\n",
    "    ax.set_yscale('log')  # Set y-axis to log scale\n",
    "    plt.tight_layout()\n",
    "    fig.savefig(f\"{location}/{title_prefix.lower().replace(' ', '_')}_entity_age.png\", dpi=dpi, transparent=True)\n",
    "\n",
    "    # Hourly Pattern (Count)\n",
    "    fig, ax = plt.subplots(figsize=(8, 6), dpi=dpi)\n",
    "    df = stats['hr_pttrn']\n",
    "    total = df['label_0_count'] + df['label_1_count']\n",
    "    normal_pct = (df['label_0_count'] / total) * 100\n",
    "    suspicious_pct = (df['label_1_count'] / total) * 100\n",
    "\n",
    "    # Create stacked bar plot\n",
    "    ax.bar(df['txn_time_hr'], normal_pct, label='Normal')\n",
    "    ax.bar(df['txn_time_hr'], suspicious_pct, bottom=normal_pct, label='Suspicious')\n",
    "    # ax.plot(df['txn_time_hr'], df['total_count'], label='Total')\n",
    "    # ax.plot(df['txn_time_hr'], df['label_0_count'], label='Normal')\n",
    "    # ax.plot(df['txn_time_hr'], df['label_1_count'], label='Suspicious')\n",
    "    ax.legend()\n",
    "    # ax.set_yscale('log')  # Set y-axis to log scale\n",
    "    plt.xlabel('Hour of the Day')\n",
    "    plt.tight_layout()\n",
    "    fig.savefig(f\"{location}/{title_prefix.lower().replace(' ', '_')}_hr_pttrn_count.png\", dpi=dpi, transparent=True)\n",
    "\n",
    "    # Hourly Pattern (Volume)\n",
    "    fig, ax = plt.subplots(figsize=(8, 6), dpi=dpi)\n",
    "    df = stats['hr_pttrn']\n",
    "    total = df['label_0_amount'] + df['label_1_amount']\n",
    "    normal_pct = (df['label_0_amount'] / total) * 100\n",
    "    suspicious_pct = (df['label_1_amount'] / total) * 100\n",
    "\n",
    "    # Create stacked bar plot\n",
    "    ax.bar(df['txn_time_hr'], normal_pct, label='Normal')\n",
    "    ax.bar(df['txn_time_hr'], suspicious_pct, bottom=normal_pct, label='Suspicious')\n",
    "    # ax.plot(df['txn_time_hr'], df['total_count'], label='Total')\n",
    "    # ax.plot(df['txn_time_hr'], df['label_0_count'], label='Normal')\n",
    "    # ax.plot(df['txn_time_hr'], df['label_1_count'], label='Suspicious')\n",
    "    ax.legend()\n",
    "    # ax.set_yscale('log')  # Set y-axis to log scale\n",
    "    plt.xlabel('Hour of the Day')\n",
    "    plt.tight_layout()\n",
    "    fig.savefig(f\"{location}/{title_prefix.lower().replace(' ', '_')}_hr_pttrn_vol.png\", dpi=dpi, transparent=True)\n",
    "\n",
    "    # Amount Distribution\n",
    "    fig, ax = plt.subplots(figsize=(8, 6), dpi=dpi)\n",
    "    df = stats['amt_pttrn']\n",
    "    ax.bar(range(len(df)), df['label_0_count'], label='Normal')\n",
    "    ax.bar(range(len(df)), df['label_1_count'], bottom=df['label_0_count'], label='Suspicious')\n",
    "    ax.set_xticks(range(len(df)))\n",
    "    ax.set_xticklabels(df['amount_bin'], rotation=45)\n",
    "    ax.legend()\n",
    "    ax.set_yscale('log')  # Set y-axis to log scale\n",
    "    plt.tight_layout()\n",
    "    fig.savefig(f\"{location}/{title_prefix.lower().replace(' ', '_')}_amt_pttrn.png\", dpi=dpi, transparent=True)\n",
    "\n",
    "\n",
    "# Plot for both datasets\n",
    "plot_patterns(aml_stat, 'AML')\n",
    "plot_patterns(frd_stat, 'Fraud')\n",
    "plot_patterns(cmb_stat, 'Combined')"
   ]
  },
  {
   "cell_type": "code",
   "execution_count": 65,
   "metadata": {},
   "outputs": [],
   "source": [
    "grouped = df1.groupby('party_Id')['Label'].agg(lambda x: set(x)).reset_index()"
   ]
  },
  {
   "cell_type": "code",
   "execution_count": 110,
   "metadata": {},
   "outputs": [],
   "source": [
    "def plot_graph(df):\n",
    "    # Create the Plotly graph\n",
    "    fig = go.Figure()\n",
    "\n",
    "    # Add bar traces for label_0_count and label_1_count\n",
    "    fig.add_trace(go.Bar(\n",
    "        x=df.index,\n",
    "        y=df['label_0_count'],\n",
    "        name='Label 0 Count',\n",
    "        marker_color='mediumseagreen'\n",
    "    ))\n",
    "\n",
    "    fig.add_trace(go.Bar(\n",
    "        x=df.index,\n",
    "        y=df['label_1_count'],\n",
    "        name='Label 1 Count',\n",
    "        marker_color='salmon'\n",
    "    ))\n",
    "\n",
    "    # Add line trace for cumulative percentage\n",
    "    fig.add_trace(go.Scatter(\n",
    "        x=df.index,\n",
    "        y=df['cum_record_pct'],\n",
    "        name='Cumulative Percentage',\n",
    "        mode='lines+markers',\n",
    "        yaxis='y2',\n",
    "        line=dict(color='blue')\n",
    "    ))\n",
    "\n",
    "        # Add line trace for cumulative percentage\n",
    "    fig.add_trace(go.Scatter(\n",
    "        x=df.index,\n",
    "        y=df['label_1_cumpct'],\n",
    "        name='Cumulative Percentage for Suspicious Rep',\n",
    "        mode='lines+markers',\n",
    "        yaxis='y2',\n",
    "        line=dict(color='teal')\n",
    "    ))\n",
    "\n",
    "    # Update layout\n",
    "    fig.update_layout(\n",
    "        title='Stacked Bar Chart with Cumulative Percentage',\n",
    "        xaxis=dict(title='Year-Month'),\n",
    "        yaxis=dict(title='Count'),\n",
    "        yaxis2=dict(\n",
    "            title='Cumulative %',\n",
    "            overlaying='y',\n",
    "            side='right',\n",
    "            range=[0, 100]\n",
    "        ),\n",
    "        barmode='stack'\n",
    "    )\n",
    "\n",
    "    fig.show()\n"
   ]
  },
  {
   "cell_type": "code",
   "execution_count": 117,
   "metadata": {},
   "outputs": [
    {
     "data": {
      "application/vnd.plotly.v1+json": {
       "config": {
        "plotlyServerURL": "https://plot.ly"
       },
       "data": [
        {
         "marker": {
          "color": "mediumseagreen"
         },
         "name": "Label 0 Count",
         "type": "bar",
         "x": [
          "2022-01",
          "2022-02",
          "2022-03",
          "2022-04",
          "2022-05",
          "2022-06",
          "2022-07",
          "2022-08",
          "2022-09",
          "2022-10",
          "2022-11",
          "2022-12"
         ],
         "y": [
          570654,
          310904,
          146146,
          57968,
          14929,
          6582,
          1129,
          4,
          1,
          1,
          2,
          1
         ]
        },
        {
         "marker": {
          "color": "salmon"
         },
         "name": "Label 1 Count",
         "type": "bar",
         "x": [
          "2022-01",
          "2022-02",
          "2022-03",
          "2022-04",
          "2022-05",
          "2022-06",
          "2022-07",
          "2022-08",
          "2022-09",
          "2022-10",
          "2022-11",
          "2022-12"
         ],
         "y": [
          71876,
          60738,
          49092,
          41604,
          27199,
          18358,
          9834,
          3522,
          619,
          0,
          1,
          0
         ]
        },
        {
         "line": {
          "color": "blue"
         },
         "mode": "lines+markers",
         "name": "Cumulative Percentage",
         "type": "scatter",
         "x": [
          "2022-01",
          "2022-02",
          "2022-03",
          "2022-04",
          "2022-05",
          "2022-06",
          "2022-07",
          "2022-08",
          "2022-09",
          "2022-10",
          "2022-11",
          "2022-12"
         ],
         "y": [
          46.18650281347131,
          72.90096638498409,
          86.93511332955713,
          94.09257283828507,
          97.12082831355615,
          98.91357165654087,
          99.70161677559226,
          99.95507359304871,
          99.99964058874441,
          99.99971247099553,
          99.9999281177489,
          100.00000000000003
         ],
         "yaxis": "y2"
        },
        {
         "line": {
          "color": "teal"
         },
         "mode": "lines+markers",
         "name": "Cumulative Percentage for Suspicious Rep",
         "type": "scatter",
         "x": [
          "2022-01",
          "2022-02",
          "2022-03",
          "2022-04",
          "2022-05",
          "2022-06",
          "2022-07",
          "2022-08",
          "2022-09",
          "2022-10",
          "2022-11",
          "2022-12"
         ],
         "y": [
          25.411977669590552,
          46.88608167782127,
          64.24270708484919,
          78.95192739434953,
          88.56821628960236,
          95.05874283613171,
          98.53558334482382,
          99.78079712066412,
          99.99964644696882,
          99.99964644696882,
          100.00000000000003,
          100.00000000000003
         ],
         "yaxis": "y2"
        }
       ],
       "layout": {
        "barmode": "stack",
        "template": {
         "data": {
          "bar": [
           {
            "error_x": {
             "color": "#2a3f5f"
            },
            "error_y": {
             "color": "#2a3f5f"
            },
            "marker": {
             "line": {
              "color": "#E5ECF6",
              "width": 0.5
             },
             "pattern": {
              "fillmode": "overlay",
              "size": 10,
              "solidity": 0.2
             }
            },
            "type": "bar"
           }
          ],
          "barpolar": [
           {
            "marker": {
             "line": {
              "color": "#E5ECF6",
              "width": 0.5
             },
             "pattern": {
              "fillmode": "overlay",
              "size": 10,
              "solidity": 0.2
             }
            },
            "type": "barpolar"
           }
          ],
          "carpet": [
           {
            "aaxis": {
             "endlinecolor": "#2a3f5f",
             "gridcolor": "white",
             "linecolor": "white",
             "minorgridcolor": "white",
             "startlinecolor": "#2a3f5f"
            },
            "baxis": {
             "endlinecolor": "#2a3f5f",
             "gridcolor": "white",
             "linecolor": "white",
             "minorgridcolor": "white",
             "startlinecolor": "#2a3f5f"
            },
            "type": "carpet"
           }
          ],
          "choropleth": [
           {
            "colorbar": {
             "outlinewidth": 0,
             "ticks": ""
            },
            "type": "choropleth"
           }
          ],
          "contour": [
           {
            "colorbar": {
             "outlinewidth": 0,
             "ticks": ""
            },
            "colorscale": [
             [
              0,
              "#0d0887"
             ],
             [
              0.1111111111111111,
              "#46039f"
             ],
             [
              0.2222222222222222,
              "#7201a8"
             ],
             [
              0.3333333333333333,
              "#9c179e"
             ],
             [
              0.4444444444444444,
              "#bd3786"
             ],
             [
              0.5555555555555556,
              "#d8576b"
             ],
             [
              0.6666666666666666,
              "#ed7953"
             ],
             [
              0.7777777777777778,
              "#fb9f3a"
             ],
             [
              0.8888888888888888,
              "#fdca26"
             ],
             [
              1,
              "#f0f921"
             ]
            ],
            "type": "contour"
           }
          ],
          "contourcarpet": [
           {
            "colorbar": {
             "outlinewidth": 0,
             "ticks": ""
            },
            "type": "contourcarpet"
           }
          ],
          "heatmap": [
           {
            "colorbar": {
             "outlinewidth": 0,
             "ticks": ""
            },
            "colorscale": [
             [
              0,
              "#0d0887"
             ],
             [
              0.1111111111111111,
              "#46039f"
             ],
             [
              0.2222222222222222,
              "#7201a8"
             ],
             [
              0.3333333333333333,
              "#9c179e"
             ],
             [
              0.4444444444444444,
              "#bd3786"
             ],
             [
              0.5555555555555556,
              "#d8576b"
             ],
             [
              0.6666666666666666,
              "#ed7953"
             ],
             [
              0.7777777777777778,
              "#fb9f3a"
             ],
             [
              0.8888888888888888,
              "#fdca26"
             ],
             [
              1,
              "#f0f921"
             ]
            ],
            "type": "heatmap"
           }
          ],
          "heatmapgl": [
           {
            "colorbar": {
             "outlinewidth": 0,
             "ticks": ""
            },
            "colorscale": [
             [
              0,
              "#0d0887"
             ],
             [
              0.1111111111111111,
              "#46039f"
             ],
             [
              0.2222222222222222,
              "#7201a8"
             ],
             [
              0.3333333333333333,
              "#9c179e"
             ],
             [
              0.4444444444444444,
              "#bd3786"
             ],
             [
              0.5555555555555556,
              "#d8576b"
             ],
             [
              0.6666666666666666,
              "#ed7953"
             ],
             [
              0.7777777777777778,
              "#fb9f3a"
             ],
             [
              0.8888888888888888,
              "#fdca26"
             ],
             [
              1,
              "#f0f921"
             ]
            ],
            "type": "heatmapgl"
           }
          ],
          "histogram": [
           {
            "marker": {
             "pattern": {
              "fillmode": "overlay",
              "size": 10,
              "solidity": 0.2
             }
            },
            "type": "histogram"
           }
          ],
          "histogram2d": [
           {
            "colorbar": {
             "outlinewidth": 0,
             "ticks": ""
            },
            "colorscale": [
             [
              0,
              "#0d0887"
             ],
             [
              0.1111111111111111,
              "#46039f"
             ],
             [
              0.2222222222222222,
              "#7201a8"
             ],
             [
              0.3333333333333333,
              "#9c179e"
             ],
             [
              0.4444444444444444,
              "#bd3786"
             ],
             [
              0.5555555555555556,
              "#d8576b"
             ],
             [
              0.6666666666666666,
              "#ed7953"
             ],
             [
              0.7777777777777778,
              "#fb9f3a"
             ],
             [
              0.8888888888888888,
              "#fdca26"
             ],
             [
              1,
              "#f0f921"
             ]
            ],
            "type": "histogram2d"
           }
          ],
          "histogram2dcontour": [
           {
            "colorbar": {
             "outlinewidth": 0,
             "ticks": ""
            },
            "colorscale": [
             [
              0,
              "#0d0887"
             ],
             [
              0.1111111111111111,
              "#46039f"
             ],
             [
              0.2222222222222222,
              "#7201a8"
             ],
             [
              0.3333333333333333,
              "#9c179e"
             ],
             [
              0.4444444444444444,
              "#bd3786"
             ],
             [
              0.5555555555555556,
              "#d8576b"
             ],
             [
              0.6666666666666666,
              "#ed7953"
             ],
             [
              0.7777777777777778,
              "#fb9f3a"
             ],
             [
              0.8888888888888888,
              "#fdca26"
             ],
             [
              1,
              "#f0f921"
             ]
            ],
            "type": "histogram2dcontour"
           }
          ],
          "mesh3d": [
           {
            "colorbar": {
             "outlinewidth": 0,
             "ticks": ""
            },
            "type": "mesh3d"
           }
          ],
          "parcoords": [
           {
            "line": {
             "colorbar": {
              "outlinewidth": 0,
              "ticks": ""
             }
            },
            "type": "parcoords"
           }
          ],
          "pie": [
           {
            "automargin": true,
            "type": "pie"
           }
          ],
          "scatter": [
           {
            "fillpattern": {
             "fillmode": "overlay",
             "size": 10,
             "solidity": 0.2
            },
            "type": "scatter"
           }
          ],
          "scatter3d": [
           {
            "line": {
             "colorbar": {
              "outlinewidth": 0,
              "ticks": ""
             }
            },
            "marker": {
             "colorbar": {
              "outlinewidth": 0,
              "ticks": ""
             }
            },
            "type": "scatter3d"
           }
          ],
          "scattercarpet": [
           {
            "marker": {
             "colorbar": {
              "outlinewidth": 0,
              "ticks": ""
             }
            },
            "type": "scattercarpet"
           }
          ],
          "scattergeo": [
           {
            "marker": {
             "colorbar": {
              "outlinewidth": 0,
              "ticks": ""
             }
            },
            "type": "scattergeo"
           }
          ],
          "scattergl": [
           {
            "marker": {
             "colorbar": {
              "outlinewidth": 0,
              "ticks": ""
             }
            },
            "type": "scattergl"
           }
          ],
          "scattermapbox": [
           {
            "marker": {
             "colorbar": {
              "outlinewidth": 0,
              "ticks": ""
             }
            },
            "type": "scattermapbox"
           }
          ],
          "scatterpolar": [
           {
            "marker": {
             "colorbar": {
              "outlinewidth": 0,
              "ticks": ""
             }
            },
            "type": "scatterpolar"
           }
          ],
          "scatterpolargl": [
           {
            "marker": {
             "colorbar": {
              "outlinewidth": 0,
              "ticks": ""
             }
            },
            "type": "scatterpolargl"
           }
          ],
          "scatterternary": [
           {
            "marker": {
             "colorbar": {
              "outlinewidth": 0,
              "ticks": ""
             }
            },
            "type": "scatterternary"
           }
          ],
          "surface": [
           {
            "colorbar": {
             "outlinewidth": 0,
             "ticks": ""
            },
            "colorscale": [
             [
              0,
              "#0d0887"
             ],
             [
              0.1111111111111111,
              "#46039f"
             ],
             [
              0.2222222222222222,
              "#7201a8"
             ],
             [
              0.3333333333333333,
              "#9c179e"
             ],
             [
              0.4444444444444444,
              "#bd3786"
             ],
             [
              0.5555555555555556,
              "#d8576b"
             ],
             [
              0.6666666666666666,
              "#ed7953"
             ],
             [
              0.7777777777777778,
              "#fb9f3a"
             ],
             [
              0.8888888888888888,
              "#fdca26"
             ],
             [
              1,
              "#f0f921"
             ]
            ],
            "type": "surface"
           }
          ],
          "table": [
           {
            "cells": {
             "fill": {
              "color": "#EBF0F8"
             },
             "line": {
              "color": "white"
             }
            },
            "header": {
             "fill": {
              "color": "#C8D4E3"
             },
             "line": {
              "color": "white"
             }
            },
            "type": "table"
           }
          ]
         },
         "layout": {
          "annotationdefaults": {
           "arrowcolor": "#2a3f5f",
           "arrowhead": 0,
           "arrowwidth": 1
          },
          "autotypenumbers": "strict",
          "coloraxis": {
           "colorbar": {
            "outlinewidth": 0,
            "ticks": ""
           }
          },
          "colorscale": {
           "diverging": [
            [
             0,
             "#8e0152"
            ],
            [
             0.1,
             "#c51b7d"
            ],
            [
             0.2,
             "#de77ae"
            ],
            [
             0.3,
             "#f1b6da"
            ],
            [
             0.4,
             "#fde0ef"
            ],
            [
             0.5,
             "#f7f7f7"
            ],
            [
             0.6,
             "#e6f5d0"
            ],
            [
             0.7,
             "#b8e186"
            ],
            [
             0.8,
             "#7fbc41"
            ],
            [
             0.9,
             "#4d9221"
            ],
            [
             1,
             "#276419"
            ]
           ],
           "sequential": [
            [
             0,
             "#0d0887"
            ],
            [
             0.1111111111111111,
             "#46039f"
            ],
            [
             0.2222222222222222,
             "#7201a8"
            ],
            [
             0.3333333333333333,
             "#9c179e"
            ],
            [
             0.4444444444444444,
             "#bd3786"
            ],
            [
             0.5555555555555556,
             "#d8576b"
            ],
            [
             0.6666666666666666,
             "#ed7953"
            ],
            [
             0.7777777777777778,
             "#fb9f3a"
            ],
            [
             0.8888888888888888,
             "#fdca26"
            ],
            [
             1,
             "#f0f921"
            ]
           ],
           "sequentialminus": [
            [
             0,
             "#0d0887"
            ],
            [
             0.1111111111111111,
             "#46039f"
            ],
            [
             0.2222222222222222,
             "#7201a8"
            ],
            [
             0.3333333333333333,
             "#9c179e"
            ],
            [
             0.4444444444444444,
             "#bd3786"
            ],
            [
             0.5555555555555556,
             "#d8576b"
            ],
            [
             0.6666666666666666,
             "#ed7953"
            ],
            [
             0.7777777777777778,
             "#fb9f3a"
            ],
            [
             0.8888888888888888,
             "#fdca26"
            ],
            [
             1,
             "#f0f921"
            ]
           ]
          },
          "colorway": [
           "#636efa",
           "#EF553B",
           "#00cc96",
           "#ab63fa",
           "#FFA15A",
           "#19d3f3",
           "#FF6692",
           "#B6E880",
           "#FF97FF",
           "#FECB52"
          ],
          "font": {
           "color": "#2a3f5f"
          },
          "geo": {
           "bgcolor": "white",
           "lakecolor": "white",
           "landcolor": "#E5ECF6",
           "showlakes": true,
           "showland": true,
           "subunitcolor": "white"
          },
          "hoverlabel": {
           "align": "left"
          },
          "hovermode": "closest",
          "mapbox": {
           "style": "light"
          },
          "paper_bgcolor": "white",
          "plot_bgcolor": "#E5ECF6",
          "polar": {
           "angularaxis": {
            "gridcolor": "white",
            "linecolor": "white",
            "ticks": ""
           },
           "bgcolor": "#E5ECF6",
           "radialaxis": {
            "gridcolor": "white",
            "linecolor": "white",
            "ticks": ""
           }
          },
          "scene": {
           "xaxis": {
            "backgroundcolor": "#E5ECF6",
            "gridcolor": "white",
            "gridwidth": 2,
            "linecolor": "white",
            "showbackground": true,
            "ticks": "",
            "zerolinecolor": "white"
           },
           "yaxis": {
            "backgroundcolor": "#E5ECF6",
            "gridcolor": "white",
            "gridwidth": 2,
            "linecolor": "white",
            "showbackground": true,
            "ticks": "",
            "zerolinecolor": "white"
           },
           "zaxis": {
            "backgroundcolor": "#E5ECF6",
            "gridcolor": "white",
            "gridwidth": 2,
            "linecolor": "white",
            "showbackground": true,
            "ticks": "",
            "zerolinecolor": "white"
           }
          },
          "shapedefaults": {
           "line": {
            "color": "#2a3f5f"
           }
          },
          "ternary": {
           "aaxis": {
            "gridcolor": "white",
            "linecolor": "white",
            "ticks": ""
           },
           "baxis": {
            "gridcolor": "white",
            "linecolor": "white",
            "ticks": ""
           },
           "bgcolor": "#E5ECF6",
           "caxis": {
            "gridcolor": "white",
            "linecolor": "white",
            "ticks": ""
           }
          },
          "title": {
           "x": 0.05
          },
          "xaxis": {
           "automargin": true,
           "gridcolor": "white",
           "linecolor": "white",
           "ticks": "",
           "title": {
            "standoff": 15
           },
           "zerolinecolor": "white",
           "zerolinewidth": 2
          },
          "yaxis": {
           "automargin": true,
           "gridcolor": "white",
           "linecolor": "white",
           "ticks": "",
           "title": {
            "standoff": 15
           },
           "zerolinecolor": "white",
           "zerolinewidth": 2
          }
         }
        },
        "title": {
         "text": "Stacked Bar Chart with Cumulative Percentage"
        },
        "xaxis": {
         "title": {
          "text": "Year-Month"
         }
        },
        "yaxis": {
         "title": {
          "text": "Count"
         }
        },
        "yaxis2": {
         "overlaying": "y",
         "range": [
          0,
          100
         ],
         "side": "right",
         "title": {
          "text": "Cumulative %"
         }
        }
       }
      }
     },
     "metadata": {},
     "output_type": "display_data"
    }
   ],
   "source": [
    "plot_graph(aml_entity_summary)"
   ]
  },
  {
   "cell_type": "code",
   "execution_count": 83,
   "metadata": {},
   "outputs": [],
   "source": [
    "def comparative_table_norm(df, col):\n",
    "    temp_df = df[['Time_step', 'Label'] + [col]].copy()\n",
    "\n",
    "    total_records = len(temp_df)\n",
    "    total_norm = len(temp_df[temp_df['Label'] == 0])\n",
    "    total_susp = len(temp_df[temp_df['Label'] == 1])\n",
    "\n",
    "\n",
    "    temp_df = temp_df.groupby(col).agg(\n",
    "            label_0_count=('Label', lambda x: (x == 0).sum()),\n",
    "            label_1_count=('Label', lambda x: (x == 1).sum()),\n",
    "        ).reset_index()\n",
    "\n",
    "    temp_df['fraud_rate'] = temp_df['label_1_count'] / total_susp\n",
    "    temp_df['norm_rate'] = temp_df['label_0_count'] / total_norm\n",
    "    temp_df['risk_mult'] = temp_df['fraud_rate'] / temp_df['norm_rate']\n",
    "    \n",
    "    return temp_df.copy()\n",
    "\n",
    "aml_comp_tbl_hr = comparative_table_norm(df1, 'txn_time_hr')\n",
    "aml_comp_tbl_txn_type = comparative_table_norm(df1, 'std_txn_type')\n",
    "aml_comp_tbl_txn_mthd = comparative_table_norm(df1, 'std_txn_method')\n",
    "frd_comp_tbl_hr = comparative_table_norm(df2, 'txn_time_hr')\n",
    "frd_comp_tbl_txn_type = comparative_table_norm(df2, 'std_txn_type')\n",
    "frd_comp_tbl_txn_mthd = comparative_table_norm(df2, 'std_txn_method')\n"
   ]
  },
  {
   "cell_type": "code",
   "execution_count": 85,
   "metadata": {},
   "outputs": [],
   "source": [
    "def comparative_table_norm_acct_age(df, col = 'txn_age_days'):\n",
    "    temp_df = df[['Time_step', 'Label'] + [col]].copy()\n",
    "\n",
    "    total_records = len(temp_df)\n",
    "    total_norm = len(temp_df[temp_df['Label'] == 0])\n",
    "    total_susp = len(temp_df[temp_df['Label'] == 1])\n",
    "    temp_df[col] = np.ceil(temp_df[col])\n",
    "\n",
    "\n",
    "    temp_df = temp_df.groupby(col).agg(\n",
    "            label_0_count=('Label', lambda x: (x == 0).sum()),\n",
    "            label_1_count=('Label', lambda x: (x == 1).sum()),\n",
    "        ).reset_index()\n",
    "\n",
    "    temp_df['fraud_rate'] = temp_df['label_1_count'] / total_susp\n",
    "    temp_df['norm_rate'] = temp_df['label_0_count'] / total_norm\n",
    "    temp_df['risk_mult'] = temp_df['fraud_rate'] / temp_df['norm_rate']\n",
    "    \n",
    "    return temp_df.copy()\n",
    "\n",
    "aml_comp_tbl_entity_age = comparative_table_norm_acct_age(df1)\n",
    "frd_comp_tbl_entity_age = comparative_table_norm_acct_age(df2)\n"
   ]
  },
  {
   "cell_type": "code",
   "execution_count": 95,
   "metadata": {},
   "outputs": [
    {
     "data": {
      "text/html": [
       "<div>\n",
       "<style scoped>\n",
       "    .dataframe tbody tr th:only-of-type {\n",
       "        vertical-align: middle;\n",
       "    }\n",
       "\n",
       "    .dataframe tbody tr th {\n",
       "        vertical-align: top;\n",
       "    }\n",
       "\n",
       "    .dataframe thead th {\n",
       "        text-align: right;\n",
       "    }\n",
       "</style>\n",
       "<table border=\"1\" class=\"dataframe\">\n",
       "  <thead>\n",
       "    <tr style=\"text-align: right;\">\n",
       "      <th></th>\n",
       "      <th>Time_step</th>\n",
       "      <th>Label</th>\n",
       "      <th>Transaction_Id</th>\n",
       "      <th>Transaction_Type</th>\n",
       "      <th>std_txn_type</th>\n",
       "      <th>std_txn_method</th>\n",
       "      <th>is_credit</th>\n",
       "      <th>USD_amount</th>\n",
       "      <th>party_Id</th>\n",
       "      <th>party_Account</th>\n",
       "      <th>...</th>\n",
       "      <th>volume_30d_count</th>\n",
       "      <th>volume_avg_7d_to_14d_ratio</th>\n",
       "      <th>volume_count_7d_to_14d_ratio</th>\n",
       "      <th>volume_avg_7d_to_30d_ratio</th>\n",
       "      <th>volume_count_7d_to_30d_ratio</th>\n",
       "      <th>volume_avg_14d_to_30d_ratio</th>\n",
       "      <th>volume_count_14d_to_30d_ratio</th>\n",
       "      <th>stat_7d_velocity</th>\n",
       "      <th>stat_14d_velocity</th>\n",
       "      <th>stat_30d_velocity</th>\n",
       "    </tr>\n",
       "  </thead>\n",
       "  <tbody>\n",
       "    <tr>\n",
       "      <th>0</th>\n",
       "      <td>2022-03-15 10:24:00</td>\n",
       "      <td>0</td>\n",
       "      <td>EXCHANGE-10115</td>\n",
       "      <td>WITHDRAWAL-EXCHANGE</td>\n",
       "      <td>WITHDRAWAL</td>\n",
       "      <td>CHECK</td>\n",
       "      <td>False</td>\n",
       "      <td>558.43</td>\n",
       "      <td>JPMC-CLIENT-10098</td>\n",
       "      <td>ACCOUNT-10108</td>\n",
       "      <td>...</td>\n",
       "      <td>0</td>\n",
       "      <td>0.000000</td>\n",
       "      <td>0.000000</td>\n",
       "      <td>0.000000</td>\n",
       "      <td>0.000000</td>\n",
       "      <td>0.000000</td>\n",
       "      <td>0.000000</td>\n",
       "      <td>0.000000</td>\n",
       "      <td>0.000000</td>\n",
       "      <td>0.000000</td>\n",
       "    </tr>\n",
       "    <tr>\n",
       "      <th>1</th>\n",
       "      <td>2022-03-15 10:24:00</td>\n",
       "      <td>0</td>\n",
       "      <td>QUICK-PAYMENT-10116</td>\n",
       "      <td>QUICK-PAYMENT-QUICK-PAYMENT</td>\n",
       "      <td>PAYMENT</td>\n",
       "      <td>ELECTRONIC</td>\n",
       "      <td>False</td>\n",
       "      <td>622.78</td>\n",
       "      <td>JPMC-CLIENT-10098</td>\n",
       "      <td>ACCOUNT-10109</td>\n",
       "      <td>...</td>\n",
       "      <td>0</td>\n",
       "      <td>0.000000</td>\n",
       "      <td>0.000000</td>\n",
       "      <td>0.000000</td>\n",
       "      <td>0.000000</td>\n",
       "      <td>0.000000</td>\n",
       "      <td>0.000000</td>\n",
       "      <td>0.000000</td>\n",
       "      <td>0.000000</td>\n",
       "      <td>0.000000</td>\n",
       "    </tr>\n",
       "    <tr>\n",
       "      <th>2</th>\n",
       "      <td>2022-03-15 10:24:00</td>\n",
       "      <td>0</td>\n",
       "      <td>QUICK-PAYMENT-1110</td>\n",
       "      <td>QUICK-PAYMENT-QUICK-PAYMENT</td>\n",
       "      <td>PAYMENT</td>\n",
       "      <td>ELECTRONIC</td>\n",
       "      <td>False</td>\n",
       "      <td>788.61</td>\n",
       "      <td>JPMC-CLIENT-1093</td>\n",
       "      <td>ACCOUNT-1104</td>\n",
       "      <td>...</td>\n",
       "      <td>0</td>\n",
       "      <td>0.000000</td>\n",
       "      <td>0.000000</td>\n",
       "      <td>0.000000</td>\n",
       "      <td>0.000000</td>\n",
       "      <td>0.000000</td>\n",
       "      <td>0.000000</td>\n",
       "      <td>0.000000</td>\n",
       "      <td>0.000000</td>\n",
       "      <td>0.000000</td>\n",
       "    </tr>\n",
       "    <tr>\n",
       "      <th>3</th>\n",
       "      <td>2022-03-15 10:24:00</td>\n",
       "      <td>0</td>\n",
       "      <td>MAKE-PAYMENT-1113</td>\n",
       "      <td>MAKE-PAYMENT-MAKE-PAYMENT</td>\n",
       "      <td>PAYMENT</td>\n",
       "      <td>ELECTRONIC</td>\n",
       "      <td>True</td>\n",
       "      <td>100.47</td>\n",
       "      <td>JPMC-CLIENT-1093</td>\n",
       "      <td>ACCOUNT-1103</td>\n",
       "      <td>...</td>\n",
       "      <td>0</td>\n",
       "      <td>0.000000</td>\n",
       "      <td>0.000000</td>\n",
       "      <td>0.000000</td>\n",
       "      <td>0.000000</td>\n",
       "      <td>0.000000</td>\n",
       "      <td>0.000000</td>\n",
       "      <td>0.000000</td>\n",
       "      <td>0.000000</td>\n",
       "      <td>0.000000</td>\n",
       "    </tr>\n",
       "    <tr>\n",
       "      <th>4</th>\n",
       "      <td>2022-03-15 10:24:00</td>\n",
       "      <td>0</td>\n",
       "      <td>CASH-CHECK-1399</td>\n",
       "      <td>EXCHANGE-CASH-CHECK</td>\n",
       "      <td>WITHDRAWAL</td>\n",
       "      <td>CHECK</td>\n",
       "      <td>False</td>\n",
       "      <td>663.68</td>\n",
       "      <td>JPMC-CLIENT-1379</td>\n",
       "      <td>ACCOUNT-1390</td>\n",
       "      <td>...</td>\n",
       "      <td>0</td>\n",
       "      <td>0.000000</td>\n",
       "      <td>0.000000</td>\n",
       "      <td>0.000000</td>\n",
       "      <td>0.000000</td>\n",
       "      <td>0.000000</td>\n",
       "      <td>0.000000</td>\n",
       "      <td>0.000000</td>\n",
       "      <td>0.000000</td>\n",
       "      <td>0.000000</td>\n",
       "    </tr>\n",
       "    <tr>\n",
       "      <th>...</th>\n",
       "      <td>...</td>\n",
       "      <td>...</td>\n",
       "      <td>...</td>\n",
       "      <td>...</td>\n",
       "      <td>...</td>\n",
       "      <td>...</td>\n",
       "      <td>...</td>\n",
       "      <td>...</td>\n",
       "      <td>...</td>\n",
       "      <td>...</td>\n",
       "      <td>...</td>\n",
       "      <td>...</td>\n",
       "      <td>...</td>\n",
       "      <td>...</td>\n",
       "      <td>...</td>\n",
       "      <td>...</td>\n",
       "      <td>...</td>\n",
       "      <td>...</td>\n",
       "      <td>...</td>\n",
       "      <td>...</td>\n",
       "      <td>...</td>\n",
       "    </tr>\n",
       "    <tr>\n",
       "      <th>1498172</th>\n",
       "      <td>2054-09-14 13:17:24</td>\n",
       "      <td>0</td>\n",
       "      <td>PAY-BILL-2180018</td>\n",
       "      <td>MAKE-PAYMENT-PAY-BILL</td>\n",
       "      <td>PAYMENT</td>\n",
       "      <td>ELECTRONIC</td>\n",
       "      <td>False</td>\n",
       "      <td>159.64</td>\n",
       "      <td>JPMC-CLIENT-2179746</td>\n",
       "      <td>ACCOUNT-2179757</td>\n",
       "      <td>...</td>\n",
       "      <td>98</td>\n",
       "      <td>1.030021</td>\n",
       "      <td>1.238095</td>\n",
       "      <td>0.954463</td>\n",
       "      <td>1.137026</td>\n",
       "      <td>0.926643</td>\n",
       "      <td>0.918367</td>\n",
       "      <td>1701.731429</td>\n",
       "      <td>1334.414286</td>\n",
       "      <td>1568.056000</td>\n",
       "    </tr>\n",
       "    <tr>\n",
       "      <th>1498173</th>\n",
       "      <td>2054-09-15 00:57:24</td>\n",
       "      <td>0</td>\n",
       "      <td>QUICK-PAYMENT-2181421</td>\n",
       "      <td>QUICK-PAYMENT-QUICK-PAYMENT</td>\n",
       "      <td>PAYMENT</td>\n",
       "      <td>ELECTRONIC</td>\n",
       "      <td>False</td>\n",
       "      <td>120.07</td>\n",
       "      <td>JPMC-CLIENT-2181147</td>\n",
       "      <td>ACCOUNT-2181158</td>\n",
       "      <td>...</td>\n",
       "      <td>96</td>\n",
       "      <td>1.068075</td>\n",
       "      <td>1.086957</td>\n",
       "      <td>1.094857</td>\n",
       "      <td>1.116071</td>\n",
       "      <td>1.025075</td>\n",
       "      <td>1.026786</td>\n",
       "      <td>1791.974286</td>\n",
       "      <td>1543.539286</td>\n",
       "      <td>1466.501000</td>\n",
       "    </tr>\n",
       "    <tr>\n",
       "      <th>1498174</th>\n",
       "      <td>2054-09-15 01:17:24</td>\n",
       "      <td>0</td>\n",
       "      <td>PAYMENT-2180021</td>\n",
       "      <td>MAKE-PAYMENT-PAYMENT</td>\n",
       "      <td>PAYMENT</td>\n",
       "      <td>ELECTRONIC</td>\n",
       "      <td>False</td>\n",
       "      <td>25.32</td>\n",
       "      <td>JPMC-CLIENT-2179746</td>\n",
       "      <td>ACCOUNT-2179757</td>\n",
       "      <td>...</td>\n",
       "      <td>96</td>\n",
       "      <td>1.004562</td>\n",
       "      <td>1.209302</td>\n",
       "      <td>0.970625</td>\n",
       "      <td>1.160714</td>\n",
       "      <td>0.966217</td>\n",
       "      <td>0.959821</td>\n",
       "      <td>1728.008571</td>\n",
       "      <td>1422.441429</td>\n",
       "      <td>1533.801333</td>\n",
       "    </tr>\n",
       "    <tr>\n",
       "      <th>1498175</th>\n",
       "      <td>2054-09-15 12:57:24</td>\n",
       "      <td>0</td>\n",
       "      <td>QUICK-PAYMENT-2181422</td>\n",
       "      <td>QUICK-PAYMENT-QUICK-PAYMENT</td>\n",
       "      <td>PAYMENT</td>\n",
       "      <td>ELECTRONIC</td>\n",
       "      <td>False</td>\n",
       "      <td>610.91</td>\n",
       "      <td>JPMC-CLIENT-2181147</td>\n",
       "      <td>ACCOUNT-2181158</td>\n",
       "      <td>...</td>\n",
       "      <td>96</td>\n",
       "      <td>1.068075</td>\n",
       "      <td>1.086957</td>\n",
       "      <td>1.094857</td>\n",
       "      <td>1.116071</td>\n",
       "      <td>1.025075</td>\n",
       "      <td>1.026786</td>\n",
       "      <td>1791.974286</td>\n",
       "      <td>1543.539286</td>\n",
       "      <td>1466.501000</td>\n",
       "    </tr>\n",
       "    <tr>\n",
       "      <th>1498176</th>\n",
       "      <td>2054-09-15 13:07:24</td>\n",
       "      <td>0</td>\n",
       "      <td>QUICK-PAYMENT-2181423</td>\n",
       "      <td>QUICK-PAYMENT-QUICK-PAYMENT</td>\n",
       "      <td>PAYMENT</td>\n",
       "      <td>ELECTRONIC</td>\n",
       "      <td>False</td>\n",
       "      <td>688.51</td>\n",
       "      <td>JPMC-CLIENT-2181147</td>\n",
       "      <td>ACCOUNT-2181158</td>\n",
       "      <td>...</td>\n",
       "      <td>96</td>\n",
       "      <td>1.068075</td>\n",
       "      <td>1.086957</td>\n",
       "      <td>1.094857</td>\n",
       "      <td>1.116071</td>\n",
       "      <td>1.025075</td>\n",
       "      <td>1.026786</td>\n",
       "      <td>1791.974286</td>\n",
       "      <td>1543.539286</td>\n",
       "      <td>1466.501000</td>\n",
       "    </tr>\n",
       "  </tbody>\n",
       "</table>\n",
       "<p>1498177 rows × 37 columns</p>\n",
       "</div>"
      ],
      "text/plain": [
       "                   Time_step  Label         Transaction_Id  \\\n",
       "0        2022-03-15 10:24:00      0         EXCHANGE-10115   \n",
       "1        2022-03-15 10:24:00      0    QUICK-PAYMENT-10116   \n",
       "2        2022-03-15 10:24:00      0     QUICK-PAYMENT-1110   \n",
       "3        2022-03-15 10:24:00      0      MAKE-PAYMENT-1113   \n",
       "4        2022-03-15 10:24:00      0        CASH-CHECK-1399   \n",
       "...                      ...    ...                    ...   \n",
       "1498172  2054-09-14 13:17:24      0       PAY-BILL-2180018   \n",
       "1498173  2054-09-15 00:57:24      0  QUICK-PAYMENT-2181421   \n",
       "1498174  2054-09-15 01:17:24      0        PAYMENT-2180021   \n",
       "1498175  2054-09-15 12:57:24      0  QUICK-PAYMENT-2181422   \n",
       "1498176  2054-09-15 13:07:24      0  QUICK-PAYMENT-2181423   \n",
       "\n",
       "                    Transaction_Type std_txn_type std_txn_method  is_credit  \\\n",
       "0                WITHDRAWAL-EXCHANGE   WITHDRAWAL          CHECK      False   \n",
       "1        QUICK-PAYMENT-QUICK-PAYMENT      PAYMENT     ELECTRONIC      False   \n",
       "2        QUICK-PAYMENT-QUICK-PAYMENT      PAYMENT     ELECTRONIC      False   \n",
       "3          MAKE-PAYMENT-MAKE-PAYMENT      PAYMENT     ELECTRONIC       True   \n",
       "4                EXCHANGE-CASH-CHECK   WITHDRAWAL          CHECK      False   \n",
       "...                              ...          ...            ...        ...   \n",
       "1498172        MAKE-PAYMENT-PAY-BILL      PAYMENT     ELECTRONIC      False   \n",
       "1498173  QUICK-PAYMENT-QUICK-PAYMENT      PAYMENT     ELECTRONIC      False   \n",
       "1498174         MAKE-PAYMENT-PAYMENT      PAYMENT     ELECTRONIC      False   \n",
       "1498175  QUICK-PAYMENT-QUICK-PAYMENT      PAYMENT     ELECTRONIC      False   \n",
       "1498176  QUICK-PAYMENT-QUICK-PAYMENT      PAYMENT     ELECTRONIC      False   \n",
       "\n",
       "         USD_amount             party_Id    party_Account  ...  \\\n",
       "0            558.43    JPMC-CLIENT-10098    ACCOUNT-10108  ...   \n",
       "1            622.78    JPMC-CLIENT-10098    ACCOUNT-10109  ...   \n",
       "2            788.61     JPMC-CLIENT-1093     ACCOUNT-1104  ...   \n",
       "3            100.47     JPMC-CLIENT-1093     ACCOUNT-1103  ...   \n",
       "4            663.68     JPMC-CLIENT-1379     ACCOUNT-1390  ...   \n",
       "...             ...                  ...              ...  ...   \n",
       "1498172      159.64  JPMC-CLIENT-2179746  ACCOUNT-2179757  ...   \n",
       "1498173      120.07  JPMC-CLIENT-2181147  ACCOUNT-2181158  ...   \n",
       "1498174       25.32  JPMC-CLIENT-2179746  ACCOUNT-2179757  ...   \n",
       "1498175      610.91  JPMC-CLIENT-2181147  ACCOUNT-2181158  ...   \n",
       "1498176      688.51  JPMC-CLIENT-2181147  ACCOUNT-2181158  ...   \n",
       "\n",
       "        volume_30d_count volume_avg_7d_to_14d_ratio  \\\n",
       "0                      0                   0.000000   \n",
       "1                      0                   0.000000   \n",
       "2                      0                   0.000000   \n",
       "3                      0                   0.000000   \n",
       "4                      0                   0.000000   \n",
       "...                  ...                        ...   \n",
       "1498172               98                   1.030021   \n",
       "1498173               96                   1.068075   \n",
       "1498174               96                   1.004562   \n",
       "1498175               96                   1.068075   \n",
       "1498176               96                   1.068075   \n",
       "\n",
       "        volume_count_7d_to_14d_ratio volume_avg_7d_to_30d_ratio  \\\n",
       "0                           0.000000                   0.000000   \n",
       "1                           0.000000                   0.000000   \n",
       "2                           0.000000                   0.000000   \n",
       "3                           0.000000                   0.000000   \n",
       "4                           0.000000                   0.000000   \n",
       "...                              ...                        ...   \n",
       "1498172                     1.238095                   0.954463   \n",
       "1498173                     1.086957                   1.094857   \n",
       "1498174                     1.209302                   0.970625   \n",
       "1498175                     1.086957                   1.094857   \n",
       "1498176                     1.086957                   1.094857   \n",
       "\n",
       "         volume_count_7d_to_30d_ratio  volume_avg_14d_to_30d_ratio  \\\n",
       "0                            0.000000                     0.000000   \n",
       "1                            0.000000                     0.000000   \n",
       "2                            0.000000                     0.000000   \n",
       "3                            0.000000                     0.000000   \n",
       "4                            0.000000                     0.000000   \n",
       "...                               ...                          ...   \n",
       "1498172                      1.137026                     0.926643   \n",
       "1498173                      1.116071                     1.025075   \n",
       "1498174                      1.160714                     0.966217   \n",
       "1498175                      1.116071                     1.025075   \n",
       "1498176                      1.116071                     1.025075   \n",
       "\n",
       "         volume_count_14d_to_30d_ratio stat_7d_velocity stat_14d_velocity  \\\n",
       "0                             0.000000         0.000000          0.000000   \n",
       "1                             0.000000         0.000000          0.000000   \n",
       "2                             0.000000         0.000000          0.000000   \n",
       "3                             0.000000         0.000000          0.000000   \n",
       "4                             0.000000         0.000000          0.000000   \n",
       "...                                ...              ...               ...   \n",
       "1498172                       0.918367      1701.731429       1334.414286   \n",
       "1498173                       1.026786      1791.974286       1543.539286   \n",
       "1498174                       0.959821      1728.008571       1422.441429   \n",
       "1498175                       1.026786      1791.974286       1543.539286   \n",
       "1498176                       1.026786      1791.974286       1543.539286   \n",
       "\n",
       "        stat_30d_velocity  \n",
       "0                0.000000  \n",
       "1                0.000000  \n",
       "2                0.000000  \n",
       "3                0.000000  \n",
       "4                0.000000  \n",
       "...                   ...  \n",
       "1498172       1568.056000  \n",
       "1498173       1466.501000  \n",
       "1498174       1533.801333  \n",
       "1498175       1466.501000  \n",
       "1498176       1466.501000  \n",
       "\n",
       "[1498177 rows x 37 columns]"
      ]
     },
     "execution_count": 95,
     "metadata": {},
     "output_type": "execute_result"
    }
   ],
   "source": [
    "temp_df = df2.copy()\n",
    "temp_df"
   ]
  },
  {
   "cell_type": "code",
   "execution_count": 76,
   "metadata": {},
   "outputs": [
    {
     "data": {
      "text/html": [
       "<div>\n",
       "<style scoped>\n",
       "    .dataframe tbody tr th:only-of-type {\n",
       "        vertical-align: middle;\n",
       "    }\n",
       "\n",
       "    .dataframe tbody tr th {\n",
       "        vertical-align: top;\n",
       "    }\n",
       "\n",
       "    .dataframe thead th {\n",
       "        text-align: right;\n",
       "    }\n",
       "</style>\n",
       "<table border=\"1\" class=\"dataframe\">\n",
       "  <thead>\n",
       "    <tr style=\"text-align: right;\">\n",
       "      <th></th>\n",
       "      <th>txn_time_hr</th>\n",
       "      <th>label_0_count</th>\n",
       "      <th>label_1_count</th>\n",
       "      <th>fraud_rate</th>\n",
       "      <th>norm_rate</th>\n",
       "      <th>risk_mult</th>\n",
       "    </tr>\n",
       "  </thead>\n",
       "  <tbody>\n",
       "    <tr>\n",
       "      <th>0</th>\n",
       "      <td>0</td>\n",
       "      <td>47862</td>\n",
       "      <td>12117</td>\n",
       "      <td>0.042840</td>\n",
       "      <td>0.043184</td>\n",
       "      <td>0.992029</td>\n",
       "    </tr>\n",
       "    <tr>\n",
       "      <th>1</th>\n",
       "      <td>1</td>\n",
       "      <td>46106</td>\n",
       "      <td>11663</td>\n",
       "      <td>0.041235</td>\n",
       "      <td>0.041600</td>\n",
       "      <td>0.991227</td>\n",
       "    </tr>\n",
       "    <tr>\n",
       "      <th>2</th>\n",
       "      <td>2</td>\n",
       "      <td>46177</td>\n",
       "      <td>11706</td>\n",
       "      <td>0.041387</td>\n",
       "      <td>0.041664</td>\n",
       "      <td>0.993351</td>\n",
       "    </tr>\n",
       "    <tr>\n",
       "      <th>3</th>\n",
       "      <td>3</td>\n",
       "      <td>45649</td>\n",
       "      <td>11739</td>\n",
       "      <td>0.041504</td>\n",
       "      <td>0.041188</td>\n",
       "      <td>1.007674</td>\n",
       "    </tr>\n",
       "    <tr>\n",
       "      <th>4</th>\n",
       "      <td>4</td>\n",
       "      <td>46190</td>\n",
       "      <td>11890</td>\n",
       "      <td>0.042037</td>\n",
       "      <td>0.041676</td>\n",
       "      <td>1.008681</td>\n",
       "    </tr>\n",
       "    <tr>\n",
       "      <th>5</th>\n",
       "      <td>5</td>\n",
       "      <td>45538</td>\n",
       "      <td>11816</td>\n",
       "      <td>0.041776</td>\n",
       "      <td>0.041087</td>\n",
       "      <td>1.016756</td>\n",
       "    </tr>\n",
       "    <tr>\n",
       "      <th>6</th>\n",
       "      <td>6</td>\n",
       "      <td>46119</td>\n",
       "      <td>11816</td>\n",
       "      <td>0.041776</td>\n",
       "      <td>0.041612</td>\n",
       "      <td>1.003947</td>\n",
       "    </tr>\n",
       "    <tr>\n",
       "      <th>7</th>\n",
       "      <td>7</td>\n",
       "      <td>46111</td>\n",
       "      <td>11611</td>\n",
       "      <td>0.041051</td>\n",
       "      <td>0.041604</td>\n",
       "      <td>0.986700</td>\n",
       "    </tr>\n",
       "    <tr>\n",
       "      <th>8</th>\n",
       "      <td>8</td>\n",
       "      <td>47647</td>\n",
       "      <td>12368</td>\n",
       "      <td>0.043727</td>\n",
       "      <td>0.042990</td>\n",
       "      <td>1.017148</td>\n",
       "    </tr>\n",
       "    <tr>\n",
       "      <th>9</th>\n",
       "      <td>9</td>\n",
       "      <td>45939</td>\n",
       "      <td>11664</td>\n",
       "      <td>0.041238</td>\n",
       "      <td>0.041449</td>\n",
       "      <td>0.994915</td>\n",
       "    </tr>\n",
       "    <tr>\n",
       "      <th>10</th>\n",
       "      <td>10</td>\n",
       "      <td>46088</td>\n",
       "      <td>11713</td>\n",
       "      <td>0.041412</td>\n",
       "      <td>0.041584</td>\n",
       "      <td>0.995865</td>\n",
       "    </tr>\n",
       "    <tr>\n",
       "      <th>11</th>\n",
       "      <td>11</td>\n",
       "      <td>45696</td>\n",
       "      <td>11625</td>\n",
       "      <td>0.041101</td>\n",
       "      <td>0.041230</td>\n",
       "      <td>0.996862</td>\n",
       "    </tr>\n",
       "    <tr>\n",
       "      <th>12</th>\n",
       "      <td>12</td>\n",
       "      <td>46054</td>\n",
       "      <td>11790</td>\n",
       "      <td>0.041684</td>\n",
       "      <td>0.041553</td>\n",
       "      <td>1.003152</td>\n",
       "    </tr>\n",
       "    <tr>\n",
       "      <th>13</th>\n",
       "      <td>13</td>\n",
       "      <td>45941</td>\n",
       "      <td>11777</td>\n",
       "      <td>0.041638</td>\n",
       "      <td>0.041451</td>\n",
       "      <td>1.004510</td>\n",
       "    </tr>\n",
       "    <tr>\n",
       "      <th>14</th>\n",
       "      <td>14</td>\n",
       "      <td>46163</td>\n",
       "      <td>11766</td>\n",
       "      <td>0.041599</td>\n",
       "      <td>0.041651</td>\n",
       "      <td>0.998746</td>\n",
       "    </tr>\n",
       "    <tr>\n",
       "      <th>15</th>\n",
       "      <td>15</td>\n",
       "      <td>45783</td>\n",
       "      <td>11724</td>\n",
       "      <td>0.041451</td>\n",
       "      <td>0.041308</td>\n",
       "      <td>1.003441</td>\n",
       "    </tr>\n",
       "    <tr>\n",
       "      <th>16</th>\n",
       "      <td>16</td>\n",
       "      <td>47297</td>\n",
       "      <td>12171</td>\n",
       "      <td>0.043031</td>\n",
       "      <td>0.042674</td>\n",
       "      <td>1.008353</td>\n",
       "    </tr>\n",
       "    <tr>\n",
       "      <th>17</th>\n",
       "      <td>17</td>\n",
       "      <td>46070</td>\n",
       "      <td>11650</td>\n",
       "      <td>0.041189</td>\n",
       "      <td>0.041567</td>\n",
       "      <td>0.990895</td>\n",
       "    </tr>\n",
       "    <tr>\n",
       "      <th>18</th>\n",
       "      <td>18</td>\n",
       "      <td>46122</td>\n",
       "      <td>11597</td>\n",
       "      <td>0.041002</td>\n",
       "      <td>0.041614</td>\n",
       "      <td>0.985275</td>\n",
       "    </tr>\n",
       "    <tr>\n",
       "      <th>19</th>\n",
       "      <td>19</td>\n",
       "      <td>46208</td>\n",
       "      <td>11709</td>\n",
       "      <td>0.041398</td>\n",
       "      <td>0.041692</td>\n",
       "      <td>0.992939</td>\n",
       "    </tr>\n",
       "    <tr>\n",
       "      <th>20</th>\n",
       "      <td>20</td>\n",
       "      <td>45815</td>\n",
       "      <td>11588</td>\n",
       "      <td>0.040970</td>\n",
       "      <td>0.041337</td>\n",
       "      <td>0.991108</td>\n",
       "    </tr>\n",
       "    <tr>\n",
       "      <th>21</th>\n",
       "      <td>21</td>\n",
       "      <td>46140</td>\n",
       "      <td>11778</td>\n",
       "      <td>0.041641</td>\n",
       "      <td>0.041631</td>\n",
       "      <td>1.000263</td>\n",
       "    </tr>\n",
       "    <tr>\n",
       "      <th>22</th>\n",
       "      <td>22</td>\n",
       "      <td>45710</td>\n",
       "      <td>11789</td>\n",
       "      <td>0.041680</td>\n",
       "      <td>0.041243</td>\n",
       "      <td>1.010615</td>\n",
       "    </tr>\n",
       "    <tr>\n",
       "      <th>23</th>\n",
       "      <td>23</td>\n",
       "      <td>45896</td>\n",
       "      <td>11776</td>\n",
       "      <td>0.041634</td>\n",
       "      <td>0.041410</td>\n",
       "      <td>1.005410</td>\n",
       "    </tr>\n",
       "  </tbody>\n",
       "</table>\n",
       "</div>"
      ],
      "text/plain": [
       "    txn_time_hr  label_0_count  label_1_count  fraud_rate  norm_rate  \\\n",
       "0             0          47862          12117    0.042840   0.043184   \n",
       "1             1          46106          11663    0.041235   0.041600   \n",
       "2             2          46177          11706    0.041387   0.041664   \n",
       "3             3          45649          11739    0.041504   0.041188   \n",
       "4             4          46190          11890    0.042037   0.041676   \n",
       "5             5          45538          11816    0.041776   0.041087   \n",
       "6             6          46119          11816    0.041776   0.041612   \n",
       "7             7          46111          11611    0.041051   0.041604   \n",
       "8             8          47647          12368    0.043727   0.042990   \n",
       "9             9          45939          11664    0.041238   0.041449   \n",
       "10           10          46088          11713    0.041412   0.041584   \n",
       "11           11          45696          11625    0.041101   0.041230   \n",
       "12           12          46054          11790    0.041684   0.041553   \n",
       "13           13          45941          11777    0.041638   0.041451   \n",
       "14           14          46163          11766    0.041599   0.041651   \n",
       "15           15          45783          11724    0.041451   0.041308   \n",
       "16           16          47297          12171    0.043031   0.042674   \n",
       "17           17          46070          11650    0.041189   0.041567   \n",
       "18           18          46122          11597    0.041002   0.041614   \n",
       "19           19          46208          11709    0.041398   0.041692   \n",
       "20           20          45815          11588    0.040970   0.041337   \n",
       "21           21          46140          11778    0.041641   0.041631   \n",
       "22           22          45710          11789    0.041680   0.041243   \n",
       "23           23          45896          11776    0.041634   0.041410   \n",
       "\n",
       "    risk_mult  \n",
       "0    0.992029  \n",
       "1    0.991227  \n",
       "2    0.993351  \n",
       "3    1.007674  \n",
       "4    1.008681  \n",
       "5    1.016756  \n",
       "6    1.003947  \n",
       "7    0.986700  \n",
       "8    1.017148  \n",
       "9    0.994915  \n",
       "10   0.995865  \n",
       "11   0.996862  \n",
       "12   1.003152  \n",
       "13   1.004510  \n",
       "14   0.998746  \n",
       "15   1.003441  \n",
       "16   1.008353  \n",
       "17   0.990895  \n",
       "18   0.985275  \n",
       "19   0.992939  \n",
       "20   0.991108  \n",
       "21   1.000263  \n",
       "22   1.010615  \n",
       "23   1.005410  "
      ]
     },
     "execution_count": 76,
     "metadata": {},
     "output_type": "execute_result"
    }
   ],
   "source": [
    "col = 'txn_time_hr'\n",
    "temp_df = df[['Time_step', 'Label'] + [col]].copy()\n",
    "\n",
    "total_records = len(temp_df)\n",
    "total_norm = len(temp_df[temp_df['Label'] == 0])\n",
    "total_susp = len(temp_df[temp_df['Label'] == 1])\n",
    "\n",
    "\n",
    "temp_df = temp_df.groupby(col).agg(\n",
    "        label_0_count=('Label', lambda x: (x == 0).sum()),\n",
    "        label_1_count=('Label', lambda x: (x == 1).sum()),\n",
    "    ).reset_index()\n",
    "\n",
    "temp_df['fraud_rate'] = temp_df['label_1_count'] / total_susp\n",
    "temp_df['norm_rate'] = temp_df['label_0_count'] / total_norm\n",
    "temp_df['risk_mult'] = temp_df['fraud_rate'] / temp_df['norm_rate']\n",
    "temp_df"
   ]
  },
  {
   "cell_type": "code",
   "execution_count": 96,
   "metadata": {},
   "outputs": [
    {
     "data": {
      "text/html": [
       "<div>\n",
       "<style scoped>\n",
       "    .dataframe tbody tr th:only-of-type {\n",
       "        vertical-align: middle;\n",
       "    }\n",
       "\n",
       "    .dataframe tbody tr th {\n",
       "        vertical-align: top;\n",
       "    }\n",
       "\n",
       "    .dataframe thead th {\n",
       "        text-align: right;\n",
       "    }\n",
       "</style>\n",
       "<table border=\"1\" class=\"dataframe\">\n",
       "  <thead>\n",
       "    <tr style=\"text-align: right;\">\n",
       "      <th></th>\n",
       "      <th>txn_dt_agg</th>\n",
       "    </tr>\n",
       "    <tr>\n",
       "      <th>party_Id</th>\n",
       "      <th></th>\n",
       "    </tr>\n",
       "  </thead>\n",
       "  <tbody>\n",
       "    <tr>\n",
       "      <th>JPMC-CLIENT-1000184</th>\n",
       "      <td>2037-01-13 12:00:00</td>\n",
       "    </tr>\n",
       "    <tr>\n",
       "      <th>JPMC-CLIENT-1000185</th>\n",
       "      <td>2037-01-16 12:00:00</td>\n",
       "    </tr>\n",
       "    <tr>\n",
       "      <th>JPMC-CLIENT-1000463</th>\n",
       "      <td>2037-01-17 12:00:00</td>\n",
       "    </tr>\n",
       "    <tr>\n",
       "      <th>JPMC-CLIENT-1000465</th>\n",
       "      <td>2037-01-21 00:00:00</td>\n",
       "    </tr>\n",
       "    <tr>\n",
       "      <th>JPMC-CLIENT-1000741</th>\n",
       "      <td>2037-01-14 00:00:00</td>\n",
       "    </tr>\n",
       "    <tr>\n",
       "      <th>...</th>\n",
       "      <td>...</td>\n",
       "    </tr>\n",
       "    <tr>\n",
       "      <th>JPMC-CLIENT-999374</th>\n",
       "      <td>2037-01-08 00:00:00</td>\n",
       "    </tr>\n",
       "    <tr>\n",
       "      <th>JPMC-CLIENT-999375</th>\n",
       "      <td>2037-01-04 00:00:00</td>\n",
       "    </tr>\n",
       "    <tr>\n",
       "      <th>JPMC-CLIENT-999586</th>\n",
       "      <td>2036-12-25 12:00:00</td>\n",
       "    </tr>\n",
       "    <tr>\n",
       "      <th>JPMC-CLIENT-999641</th>\n",
       "      <td>2037-01-12 00:00:00</td>\n",
       "    </tr>\n",
       "    <tr>\n",
       "      <th>JPMC-CLIENT-999902</th>\n",
       "      <td>2037-01-16 00:00:00</td>\n",
       "    </tr>\n",
       "  </tbody>\n",
       "</table>\n",
       "<p>14134 rows × 1 columns</p>\n",
       "</div>"
      ],
      "text/plain": [
       "                             txn_dt_agg\n",
       "party_Id                               \n",
       "JPMC-CLIENT-1000184 2037-01-13 12:00:00\n",
       "JPMC-CLIENT-1000185 2037-01-16 12:00:00\n",
       "JPMC-CLIENT-1000463 2037-01-17 12:00:00\n",
       "JPMC-CLIENT-1000465 2037-01-21 00:00:00\n",
       "JPMC-CLIENT-1000741 2037-01-14 00:00:00\n",
       "...                                 ...\n",
       "JPMC-CLIENT-999374  2037-01-08 00:00:00\n",
       "JPMC-CLIENT-999375  2037-01-04 00:00:00\n",
       "JPMC-CLIENT-999586  2036-12-25 12:00:00\n",
       "JPMC-CLIENT-999641  2037-01-12 00:00:00\n",
       "JPMC-CLIENT-999902  2037-01-16 00:00:00\n",
       "\n",
       "[14134 rows x 1 columns]"
      ]
     },
     "execution_count": 96,
     "metadata": {},
     "output_type": "execute_result"
    }
   ],
   "source": [
    "# Time of Day Plot\n",
    "temp_df['txn_date'] = pd.to_datetime(pd.to_datetime(temp_df['Time_step']).dt.date)\n",
    "temp_df.groupby('party_Id').agg(\n",
    "    txn_dt_agg=('txn_date', 'median')\n",
    ")"
   ]
  },
  {
   "cell_type": "code",
   "execution_count": 31,
   "metadata": {},
   "outputs": [
    {
     "data": {
      "text/plain": [
       "count    1.391164e+06\n",
       "mean     6.053607e-01\n",
       "std      6.412800e-01\n",
       "min      0.000000e+00\n",
       "25%      0.000000e+00\n",
       "50%      1.000000e+00\n",
       "75%      1.000000e+00\n",
       "max      6.000000e+00\n",
       "Name: velocity_7d_count, dtype: float64"
      ]
     },
     "execution_count": 31,
     "metadata": {},
     "output_type": "execute_result"
    }
   ],
   "source": [
    "df1['velocity_7d_count'].describe()"
   ]
  },
  {
   "cell_type": "code",
   "execution_count": 17,
   "metadata": {},
   "outputs": [
    {
     "data": {
      "text/plain": [
       "Index(['amount', 'label'], dtype='object')"
      ]
     },
     "execution_count": 17,
     "metadata": {},
     "output_type": "execute_result"
    }
   ],
   "source": [
    "aml_data.columns"
   ]
  },
  {
   "cell_type": "code",
   "execution_count": 33,
   "metadata": {},
   "outputs": [
    {
     "name": "stderr",
     "output_type": "stream",
     "text": [
      "C:\\Users\\al2-esplana\\AppData\\Local\\Temp\\ipykernel_31508\\186609256.py:21: FutureWarning: Setting an item of incompatible dtype is deprecated and will raise an error in a future version of pandas. Value '[ 6.32641624e+00 -6.77819363e-01  8.76192363e+04 ... -1.45392222e+00\n",
      " -6.73585506e-01 -2.02350000e+00]' has dtype incompatible with int64, please explicitly cast to a compatible dtype first.\n",
      "  result[mask] = 0.6745 * (df.loc[mask, 'USD_amount'] - df.loc[mask, f'stat_{days}d_median']) / df.loc[mask, f'stat_{days}d_mad']\n",
      "C:\\Users\\al2-esplana\\AppData\\Local\\Temp\\ipykernel_31508\\186609256.py:21: FutureWarning: Setting an item of incompatible dtype is deprecated and will raise an error in a future version of pandas. Value '[-0.81814596 -0.24609787  4.69447475 ... -1.0960625   0.57073077\n",
      "  0.19741463]' has dtype incompatible with int64, please explicitly cast to a compatible dtype first.\n",
      "  result[mask] = 0.6745 * (df.loc[mask, 'USD_amount'] - df.loc[mask, f'stat_{days}d_median']) / df.loc[mask, f'stat_{days}d_mad']\n",
      "C:\\Users\\al2-esplana\\AppData\\Local\\Temp\\ipykernel_31508\\186609256.py:21: FutureWarning: Setting an item of incompatible dtype is deprecated and will raise an error in a future version of pandas. Value '[ 4.15998905 -0.5062022  -0.26379089 ...  0.70515909 -0.98109091\n",
      "  0.65115001]' has dtype incompatible with int64, please explicitly cast to a compatible dtype first.\n",
      "  result[mask] = 0.6745 * (df.loc[mask, 'USD_amount'] - df.loc[mask, f'stat_{days}d_median']) / df.loc[mask, f'stat_{days}d_mad']\n",
      "C:\\Users\\al2-esplana\\AppData\\Local\\Temp\\ipykernel_31508\\186609256.py:21: FutureWarning: Setting an item of incompatible dtype is deprecated and will raise an error in a future version of pandas. Value '[-0.76059807  3.96388093  0.00944316 ... -0.98917666  0.31286712\n",
      "  0.50104329]' has dtype incompatible with int64, please explicitly cast to a compatible dtype first.\n",
      "  result[mask] = 0.6745 * (df.loc[mask, 'USD_amount'] - df.loc[mask, f'stat_{days}d_median']) / df.loc[mask, f'stat_{days}d_mad']\n",
      "C:\\Users\\al2-esplana\\AppData\\Local\\Temp\\ipykernel_31508\\186609256.py:21: FutureWarning: Setting an item of incompatible dtype is deprecated and will raise an error in a future version of pandas. Value '[-1.17419985  1.24670488 -0.03091524 ... -0.97199198 -0.79571866\n",
      "  0.55431154]' has dtype incompatible with int64, please explicitly cast to a compatible dtype first.\n",
      "  result[mask] = 0.6745 * (df.loc[mask, 'USD_amount'] - df.loc[mask, f'stat_{days}d_median']) / df.loc[mask, f'stat_{days}d_mad']\n",
      "C:\\Users\\al2-esplana\\AppData\\Local\\Temp\\ipykernel_31508\\186609256.py:21: FutureWarning: Setting an item of incompatible dtype is deprecated and will raise an error in a future version of pandas. Value '[-0.21864938  3.45088681  0.16478267 ... -0.93633766  0.74454161\n",
      "  0.96043948]' has dtype incompatible with int64, please explicitly cast to a compatible dtype first.\n",
      "  result[mask] = 0.6745 * (df.loc[mask, 'USD_amount'] - df.loc[mask, f'stat_{days}d_median']) / df.loc[mask, f'stat_{days}d_mad']\n",
      "C:\\Users\\al2-esplana\\AppData\\Local\\Temp\\ipykernel_31508\\186609256.py:21: FutureWarning: Setting an item of incompatible dtype is deprecated and will raise an error in a future version of pandas. Value '[-0.34795985  0.31500647 -0.56626329 ...  0.82756489 -0.10742435\n",
      " -0.26814091]' has dtype incompatible with int64, please explicitly cast to a compatible dtype first.\n",
      "  result[mask] = 0.6745 * (df.loc[mask, 'USD_amount'] - df.loc[mask, f'stat_{days}d_median']) / df.loc[mask, f'stat_{days}d_mad']\n",
      "C:\\Users\\al2-esplana\\AppData\\Local\\Temp\\ipykernel_31508\\186609256.py:21: FutureWarning: Setting an item of incompatible dtype is deprecated and will raise an error in a future version of pandas. Value '[-1.2601235  -0.8247933  -1.30916311 ... -0.72232724  1.26234193\n",
      " -0.63086259]' has dtype incompatible with int64, please explicitly cast to a compatible dtype first.\n",
      "  result[mask] = 0.6745 * (df.loc[mask, 'USD_amount'] - df.loc[mask, f'stat_{days}d_median']) / df.loc[mask, f'stat_{days}d_mad']\n",
      "C:\\Users\\al2-esplana\\AppData\\Local\\Temp\\ipykernel_31508\\186609256.py:21: FutureWarning: Setting an item of incompatible dtype is deprecated and will raise an error in a future version of pandas. Value '[-0.75537587 -0.71842289 -0.80879283 ... -0.70774969  1.19674561\n",
      " -0.60593963]' has dtype incompatible with int64, please explicitly cast to a compatible dtype first.\n",
      "  result[mask] = 0.6745 * (df.loc[mask, 'USD_amount'] - df.loc[mask, f'stat_{days}d_median']) / df.loc[mask, f'stat_{days}d_mad']\n"
     ]
    }
   ],
   "source": [
    "def calculate_modified_zscore(df, days_list):\n",
    "    \"\"\"\n",
    "    Calculate modified z-score based on given conditions for multiple day periods\n",
    "    \n",
    "    Args:\n",
    "        df: pandas DataFrame\n",
    "        days_list: list of integers representing different day periods\n",
    "    \n",
    "    Returns:\n",
    "        DataFrame with modified z-scores for each period\n",
    "    \"\"\"\n",
    "    for days in days_list:\n",
    "    # Calculate 75th percentile threshold\n",
    "        p75 = df[f'velocity_{days}d_count'].quantile(0.75)\n",
    "        \n",
    "        # Initialize result series with zeros\n",
    "        result = pd.Series(0, index=df.index)\n",
    "        \n",
    "        # Calculate modified z-score for rows where count > P75\n",
    "        mask = df[f'velocity_{days}d_count'] > p75\n",
    "        result[mask] = 0.6745 * (df.loc[mask, 'USD_amount'] - df.loc[mask, f'stat_{days}d_median']) / df.loc[mask, f'stat_{days}d_mad']\n",
    "        \n",
    "        # Assign result to new column\n",
    "        df[f'stat_{days}d_modzscr'] = result\n",
    "    \n",
    "    return df\n",
    "\n",
    "df1_mod = calculate_modified_zscore(df1, [7, 14, 30])\n",
    "df2_mod = calculate_modified_zscore(df2, [7, 14, 30])\n",
    "df3_mod = calculate_modified_zscore(df3, [7, 14, 30])"
   ]
  },
  {
   "cell_type": "code",
   "execution_count": 34,
   "metadata": {},
   "outputs": [],
   "source": [
    "df1_mod.to_parquet('../data/jp_morgan/sorted/transaction_metrics_final_aml_v4_cbflag_mod.parquet')\n",
    "df2_mod.to_parquet('../data/jp_morgan/sorted/transaction_metrics_final_fraud_v4_cbflag_mod.parquet')\n",
    "df3_mod.to_parquet('../data/jp_morgan/sorted/transaction_metrics_final_ds3_v4_cbflag_mod.parquet')"
   ]
  },
  {
   "cell_type": "code",
   "execution_count": null,
   "metadata": {},
   "outputs": [],
   "source": []
  }
 ],
 "metadata": {
  "kernelspec": {
   "display_name": "Python 3",
   "language": "python",
   "name": "python3"
  },
  "language_info": {
   "codemirror_mode": {
    "name": "ipython",
    "version": 3
   },
   "file_extension": ".py",
   "mimetype": "text/x-python",
   "name": "python",
   "nbconvert_exporter": "python",
   "pygments_lexer": "ipython3",
   "version": "3.11.10"
  }
 },
 "nbformat": 4,
 "nbformat_minor": 2
}
