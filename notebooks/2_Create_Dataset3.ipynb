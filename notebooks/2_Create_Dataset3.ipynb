{
 "cells": [
  {
   "cell_type": "code",
   "execution_count": 1,
   "metadata": {},
   "outputs": [],
   "source": [
    "import polars as pl\n",
    "\n",
    "aml_df = pl.read_parquet('../data/jp_morgan/transaction_metrics_final_aml_v3.parquet')\n",
    "frd_df = pl.read_parquet('../data/jp_morgan/transaction_metrics_final_fraud_v3.parquet')"
   ]
  },
  {
   "cell_type": "code",
   "execution_count": 2,
   "metadata": {},
   "outputs": [],
   "source": [
    "aml_df = aml_df.with_columns(\n",
    "    pl.when(pl.col(\"Label\") == \"GOOD\").then(0).otherwise(1).alias(\"Label\")\n",
    ")"
   ]
  },
  {
   "cell_type": "code",
   "execution_count": 7,
   "metadata": {},
   "outputs": [],
   "source": [
    "aml_df = aml_df.with_columns(pl.col('Label').cast(pl.Int32)).sort(\"Time_step\")\n",
    "frd_df = frd_df.with_columns(pl.col('Label').cast(pl.Int32)).sort(\"Time_step\")\n",
    "ds3_df = pl.concat([aml_df, frd_df]).sort(\"Time_step\")"
   ]
  },
  {
   "cell_type": "code",
   "execution_count": 8,
   "metadata": {},
   "outputs": [],
   "source": [
    "ds3_df.write_parquet('../data/jp_morgan/sorted/transaction_metrics_final_ds3_v3.parquet')"
   ]
  },
  {
   "cell_type": "code",
   "execution_count": 16,
   "metadata": {},
   "outputs": [
    {
     "data": {
      "text/html": [
       "<div><style>\n",
       ".dataframe > thead > tr,\n",
       ".dataframe > tbody > tr {\n",
       "  text-align: right;\n",
       "  white-space: pre-wrap;\n",
       "}\n",
       "</style>\n",
       "<small>shape: (9, 34)</small><table border=\"1\" class=\"dataframe\"><thead><tr><th>statistic</th><th>Time_step</th><th>Label</th><th>Transaction_Id</th><th>Transaction_Type</th><th>std_txn_type</th><th>std_txn_method</th><th>is_credit</th><th>USD_amount</th><th>party_Id</th><th>party_Account</th><th>party_Country</th><th>cparty_Id</th><th>cparty_Account</th><th>cparty_Country</th><th>txn_time_hr</th><th>txn_time_mm</th><th>txn_age_days</th><th>prev_std_txn_type</th><th>prev_std_txn_method</th><th>prev_USD_amount</th><th>prev_age_delta</th><th>volume_7d_sum</th><th>velocity_7d_count</th><th>stat_7d_median</th><th>stat_7d_mad</th><th>volume_14d_sum</th><th>velocity_14d_count</th><th>stat_14d_median</th><th>stat_14d_mad</th><th>volume_30d_sum</th><th>velocity_30d_count</th><th>stat_30d_median</th><th>stat_30d_mad</th></tr><tr><td>str</td><td>str</td><td>f64</td><td>str</td><td>str</td><td>str</td><td>str</td><td>f64</td><td>f64</td><td>str</td><td>str</td><td>str</td><td>str</td><td>str</td><td>str</td><td>f64</td><td>f64</td><td>f64</td><td>str</td><td>str</td><td>f64</td><td>f64</td><td>f64</td><td>f64</td><td>f64</td><td>f64</td><td>f64</td><td>f64</td><td>f64</td><td>f64</td><td>f64</td><td>f64</td><td>f64</td><td>f64</td></tr></thead><tbody><tr><td>&quot;count&quot;</td><td>&quot;2889341&quot;</td><td>2.889341e6</td><td>&quot;2889341&quot;</td><td>&quot;2889341&quot;</td><td>&quot;2889341&quot;</td><td>&quot;2889341&quot;</td><td>2.889341e6</td><td>2.889341e6</td><td>&quot;2889341&quot;</td><td>&quot;2889341&quot;</td><td>&quot;2889341&quot;</td><td>&quot;1815389&quot;</td><td>&quot;1566661&quot;</td><td>&quot;1566661&quot;</td><td>2.889341e6</td><td>2.889341e6</td><td>2.889341e6</td><td>&quot;2843948&quot;</td><td>&quot;2843948&quot;</td><td>2.843948e6</td><td>2.843948e6</td><td>2.889341e6</td><td>2.889341e6</td><td>2.889341e6</td><td>2.889341e6</td><td>2.889341e6</td><td>2.889341e6</td><td>2.889341e6</td><td>2.889341e6</td><td>2.889341e6</td><td>2.889341e6</td><td>2.889341e6</td><td>2.889341e6</td></tr><tr><td>&quot;null_count&quot;</td><td>&quot;0&quot;</td><td>0.0</td><td>&quot;0&quot;</td><td>&quot;0&quot;</td><td>&quot;0&quot;</td><td>&quot;0&quot;</td><td>0.0</td><td>0.0</td><td>&quot;0&quot;</td><td>&quot;0&quot;</td><td>&quot;0&quot;</td><td>&quot;1073952&quot;</td><td>&quot;1322680&quot;</td><td>&quot;1322680&quot;</td><td>0.0</td><td>0.0</td><td>0.0</td><td>&quot;45393&quot;</td><td>&quot;45393&quot;</td><td>45393.0</td><td>45393.0</td><td>0.0</td><td>0.0</td><td>0.0</td><td>0.0</td><td>0.0</td><td>0.0</td><td>0.0</td><td>0.0</td><td>0.0</td><td>0.0</td><td>0.0</td><td>0.0</td></tr><tr><td>&quot;mean&quot;</td><td>null</td><td>0.108558</td><td>null</td><td>null</td><td>null</td><td>null</td><td>0.361795</td><td>69158.877474</td><td>null</td><td>null</td><td>null</td><td>null</td><td>null</td><td>null</td><td>11.477825</td><td>29.841594</td><td>230.459063</td><td>null</td><td>null</td><td>68364.683725</td><td>6.505325</td><td>46510.735797</td><td>12.088598</td><td>35636.767858</td><td>1719.001104</td><td>98671.640441</td><td>22.371284</td><td>52597.983525</td><td>9955.490178</td><td>220636.208071</td><td>38.980826</td><td>54838.52907</td><td>15845.200453</td></tr><tr><td>&quot;std&quot;</td><td>null</td><td>0.311084</td><td>null</td><td>null</td><td>null</td><td>null</td><td>null</td><td>292120.213884</td><td>null</td><td>null</td><td>null</td><td>null</td><td>null</td><td>null</td><td>6.917179</td><td>17.197195</td><td>298.432353</td><td>null</td><td>null</td><td>289309.010533</td><td>16.45593</td><td>237088.344155</td><td>12.800666</td><td>205488.141382</td><td>32517.75317</td><td>396133.514076</td><td>24.199655</td><td>234640.767292</td><td>81657.617968</td><td>759559.902071</td><td>45.389536</td><td>205245.185064</td><td>84183.424363</td></tr><tr><td>&quot;min&quot;</td><td>&quot;2022-01-07 00:02:00&quot;</td><td>0.0</td><td>&quot;CASH-CHECK-1000067&quot;</td><td>&quot;CASH-DEPOSIT&quot;</td><td>&quot;DEPOSIT&quot;</td><td>&quot;CASH&quot;</td><td>0.0</td><td>0.0</td><td>&quot;JPMC-CLIENT-1000023-06&quot;</td><td>&quot;ACCOUNT-1000194&quot;</td><td>&quot;AFGHANISTAN&quot;</td><td>&quot;BILL-COMPANY-100000&quot;</td><td>&quot;ACCOUNT-1000001&quot;</td><td>&quot;AFGHANISTAN&quot;</td><td>0.0</td><td>0.0</td><td>0.0</td><td>&quot;DEPOSIT&quot;</td><td>&quot;CASH&quot;</td><td>0.0</td><td>0.0</td><td>0.0</td><td>0.0</td><td>0.0</td><td>0.0</td><td>0.0</td><td>0.0</td><td>0.0</td><td>0.0</td><td>0.0</td><td>0.0</td><td>0.0</td><td>0.0</td></tr><tr><td>&quot;25%&quot;</td><td>null</td><td>0.0</td><td>null</td><td>null</td><td>null</td><td>null</td><td>null</td><td>327.6</td><td>null</td><td>null</td><td>null</td><td>null</td><td>null</td><td>null</td><td>5.0</td><td>15.0</td><td>21.0</td><td>null</td><td>null</td><td>327.74</td><td>0.484028</td><td>95.6</td><td>1.0</td><td>94.37</td><td>0.0</td><td>3684.51</td><td>1.0</td><td>386.08</td><td>0.0</td><td>8124.34</td><td>3.0</td><td>400.68</td><td>209.06</td></tr><tr><td>&quot;50%&quot;</td><td>null</td><td>0.0</td><td>null</td><td>null</td><td>null</td><td>null</td><td>null</td><td>783.83</td><td>null</td><td>null</td><td>null</td><td>null</td><td>null</td><td>null</td><td>12.0</td><td>29.0</td><td>46.0</td><td>null</td><td>null</td><td>784.77</td><td>0.506944</td><td>8887.14</td><td>2.0</td><td>408.385</td><td>126.025</td><td>16222.07</td><td>3.0</td><td>468.525</td><td>246.495</td><td>25211.55</td><td>6.0</td><td>496.15</td><td>291.47</td></tr><tr><td>&quot;75%&quot;</td><td>null</td><td>0.0</td><td>null</td><td>null</td><td>null</td><td>null</td><td>null</td><td>5000.3</td><td>null</td><td>null</td><td>null</td><td>null</td><td>null</td><td>null</td><td>17.0</td><td>45.0</td><td>358.0</td><td>null</td><td>null</td><td>5000.3</td><td>7.131944</td><td>13415.05</td><td>24.0</td><td>626.4</td><td>268.245</td><td>26648.58</td><td>48.0</td><td>3451.5203</td><td>305.13</td><td>52777.78</td><td>85.0</td><td>4884.66</td><td>550.64</td></tr><tr><td>&quot;max&quot;</td><td>&quot;2054-09-15 13:07:24&quot;</td><td>1.0</td><td>&quot;WITHDRAWAL-999990&quot;</td><td>&quot;WITHDRAWL&quot;</td><td>&quot;WITHDRAWAL&quot;</td><td>&quot;ELECTRONIC&quot;</td><td>1.0</td><td>1.9300001e7</td><td>&quot;JPMC-CLIENT-999902&quot;</td><td>&quot;DIGITAL-MONEY-999661-00&quot;</td><td>&quot;ZIMBABWE&quot;</td><td>&quot;STANDARD-COMPANY-999187-00&quot;</td><td>&quot;CHECKING-999988-10&quot;</td><td>&quot;ZIMBABWE&quot;</td><td>23.0</td><td>59.0</td><td>2091.0</td><td>&quot;WITHDRAWAL&quot;</td><td>&quot;ELECTRONIC&quot;</td><td>1.9300001e7</td><td>303.423611</td><td>1.9300001e7</td><td>61.0</td><td>1.9300001e7</td><td>1954155.5</td><td>2.0250027e7</td><td>95.0</td><td>1.9300001e7</td><td>9399962.5</td><td>2.2281413e7</td><td>164.0</td><td>3.998134e6</td><td>1992201.5</td></tr></tbody></table></div>"
      ],
      "text/plain": [
       "shape: (9, 34)\n",
       "┌───────────┬───────────┬───────────┬───────────┬───┬───────────┬───────────┬───────────┬──────────┐\n",
       "│ statistic ┆ Time_step ┆ Label     ┆ Transacti ┆ … ┆ volume_30 ┆ velocity_ ┆ stat_30d_ ┆ stat_30d │\n",
       "│ ---       ┆ ---       ┆ ---       ┆ on_Id     ┆   ┆ d_sum     ┆ 30d_count ┆ median    ┆ _mad     │\n",
       "│ str       ┆ str       ┆ f64       ┆ ---       ┆   ┆ ---       ┆ ---       ┆ ---       ┆ ---      │\n",
       "│           ┆           ┆           ┆ str       ┆   ┆ f64       ┆ f64       ┆ f64       ┆ f64      │\n",
       "╞═══════════╪═══════════╪═══════════╪═══════════╪═══╪═══════════╪═══════════╪═══════════╪══════════╡\n",
       "│ count     ┆ 2889341   ┆ 2.889341e ┆ 2889341   ┆ … ┆ 2.889341e ┆ 2.889341e ┆ 2.889341e ┆ 2.889341 │\n",
       "│           ┆           ┆ 6         ┆           ┆   ┆ 6         ┆ 6         ┆ 6         ┆ e6       │\n",
       "│ null_coun ┆ 0         ┆ 0.0       ┆ 0         ┆ … ┆ 0.0       ┆ 0.0       ┆ 0.0       ┆ 0.0      │\n",
       "│ t         ┆           ┆           ┆           ┆   ┆           ┆           ┆           ┆          │\n",
       "│ mean      ┆ null      ┆ 0.108558  ┆ null      ┆ … ┆ 220636.20 ┆ 38.980826 ┆ 54838.529 ┆ 15845.20 │\n",
       "│           ┆           ┆           ┆           ┆   ┆ 8071      ┆           ┆ 07        ┆ 0453     │\n",
       "│ std       ┆ null      ┆ 0.311084  ┆ null      ┆ … ┆ 759559.90 ┆ 45.389536 ┆ 205245.18 ┆ 84183.42 │\n",
       "│           ┆           ┆           ┆           ┆   ┆ 2071      ┆           ┆ 5064      ┆ 4363     │\n",
       "│ min       ┆ 2022-01-0 ┆ 0.0       ┆ CASH-CHEC ┆ … ┆ 0.0       ┆ 0.0       ┆ 0.0       ┆ 0.0      │\n",
       "│           ┆ 7         ┆           ┆ K-1000067 ┆   ┆           ┆           ┆           ┆          │\n",
       "│           ┆ 00:02:00  ┆           ┆           ┆   ┆           ┆           ┆           ┆          │\n",
       "│ 25%       ┆ null      ┆ 0.0       ┆ null      ┆ … ┆ 8124.34   ┆ 3.0       ┆ 400.68    ┆ 209.06   │\n",
       "│ 50%       ┆ null      ┆ 0.0       ┆ null      ┆ … ┆ 25211.55  ┆ 6.0       ┆ 496.15    ┆ 291.47   │\n",
       "│ 75%       ┆ null      ┆ 0.0       ┆ null      ┆ … ┆ 52777.78  ┆ 85.0      ┆ 4884.66   ┆ 550.64   │\n",
       "│ max       ┆ 2054-09-1 ┆ 1.0       ┆ WITHDRAWA ┆ … ┆ 2.2281413 ┆ 164.0     ┆ 3.998134e ┆ 1992201. │\n",
       "│           ┆ 5         ┆           ┆ L-999990  ┆   ┆ e7        ┆           ┆ 6         ┆ 5        │\n",
       "│           ┆ 13:07:24  ┆           ┆           ┆   ┆           ┆           ┆           ┆          │\n",
       "└───────────┴───────────┴───────────┴───────────┴───┴───────────┴───────────┴───────────┴──────────┘"
      ]
     },
     "execution_count": 16,
     "metadata": {},
     "output_type": "execute_result"
    }
   ],
   "source": [
    "ds3_df.describe()"
   ]
  },
  {
   "cell_type": "code",
   "execution_count": null,
   "metadata": {},
   "outputs": [],
   "source": []
  }
 ],
 "metadata": {
  "kernelspec": {
   "display_name": "Python 3",
   "language": "python",
   "name": "python3"
  },
  "language_info": {
   "codemirror_mode": {
    "name": "ipython",
    "version": 3
   },
   "file_extension": ".py",
   "mimetype": "text/x-python",
   "name": "python",
   "nbconvert_exporter": "python",
   "pygments_lexer": "ipython3",
   "version": "3.11.10"
  }
 },
 "nbformat": 4,
 "nbformat_minor": 2
}
