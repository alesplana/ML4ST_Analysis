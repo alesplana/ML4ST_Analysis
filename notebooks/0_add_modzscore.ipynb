{
 "cells": [
  {
   "cell_type": "code",
   "execution_count": 1,
   "metadata": {},
   "outputs": [],
   "source": [
    "import pandas as pd"
   ]
  },
  {
   "cell_type": "code",
   "execution_count": 2,
   "metadata": {},
   "outputs": [],
   "source": [
    "df1 = pd.read_parquet('../data/jp_morgan/sorted/transaction_metrics_final_aml_v3_cbflag.parquet')\n",
    "# aml_data = df1[['USD_amount', 'Label']].copy()\n",
    "# aml_data.columns = ['amount', 'label']\n",
    "\n",
    "df2 = pd.read_parquet('../data/jp_morgan/sorted/transaction_metrics_final_fraud_v3_cbflag.parquet')\n",
    "# fraud_data = df2[['USD_amount', 'Label']].copy()\n",
    "# fraud_data.columns = ['amount', 'label']\n",
    "\n",
    "# df3 = pd.read_parquet('../data/jp_morgan/sorted/transaction_metrics_final_ds3_v3_cbflag.parquet')\n",
    "# combined_data = df2[['USD_amount', 'Label']].copy()\n",
    "# combined_data.columns = ['amount', 'label']"
   ]
  },
  {
   "cell_type": "code",
   "execution_count": 3,
   "metadata": {},
   "outputs": [
    {
     "name": "stderr",
     "output_type": "stream",
     "text": [
      "C:\\Users\\dandr\\AppData\\Local\\Temp\\ipykernel_27228\\427450559.py:21: FutureWarning: Setting an item of incompatible dtype is deprecated and will raise an error in a future version of pandas. Value '[ 6.32641624e+00 -6.77819363e-01  8.76192363e+04 ... -1.45392222e+00\n",
      " -6.73585506e-01 -2.02350000e+00]' has dtype incompatible with int64, please explicitly cast to a compatible dtype first.\n",
      "  result[mask] = 0.6745 * (df.loc[mask, 'USD_amount'] - df.loc[mask, f'stat_{days}d_median']) / df.loc[mask, f'stat_{days}d_mad']\n",
      "C:\\Users\\dandr\\AppData\\Local\\Temp\\ipykernel_27228\\427450559.py:21: FutureWarning: Setting an item of incompatible dtype is deprecated and will raise an error in a future version of pandas. Value '[-0.81814596 -0.24609787  4.69447475 ... -1.0960625   0.57073077\n",
      "  0.19741463]' has dtype incompatible with int64, please explicitly cast to a compatible dtype first.\n",
      "  result[mask] = 0.6745 * (df.loc[mask, 'USD_amount'] - df.loc[mask, f'stat_{days}d_median']) / df.loc[mask, f'stat_{days}d_mad']\n",
      "C:\\Users\\dandr\\AppData\\Local\\Temp\\ipykernel_27228\\427450559.py:21: FutureWarning: Setting an item of incompatible dtype is deprecated and will raise an error in a future version of pandas. Value '[ 4.15998905 -0.5062022  -0.26379089 ...  0.70515909 -0.98109091\n",
      "  0.65115001]' has dtype incompatible with int64, please explicitly cast to a compatible dtype first.\n",
      "  result[mask] = 0.6745 * (df.loc[mask, 'USD_amount'] - df.loc[mask, f'stat_{days}d_median']) / df.loc[mask, f'stat_{days}d_mad']\n",
      "C:\\Users\\dandr\\AppData\\Local\\Temp\\ipykernel_27228\\427450559.py:21: FutureWarning: Setting an item of incompatible dtype is deprecated and will raise an error in a future version of pandas. Value '[-0.34795985  0.31500647 -0.56626329 ...  0.82756489 -0.10742435\n",
      " -0.26814091]' has dtype incompatible with int64, please explicitly cast to a compatible dtype first.\n",
      "  result[mask] = 0.6745 * (df.loc[mask, 'USD_amount'] - df.loc[mask, f'stat_{days}d_median']) / df.loc[mask, f'stat_{days}d_mad']\n",
      "C:\\Users\\dandr\\AppData\\Local\\Temp\\ipykernel_27228\\427450559.py:21: FutureWarning: Setting an item of incompatible dtype is deprecated and will raise an error in a future version of pandas. Value '[-1.2601235  -0.8247933  -1.30916311 ... -0.72232724  1.26234193\n",
      " -0.63086259]' has dtype incompatible with int64, please explicitly cast to a compatible dtype first.\n",
      "  result[mask] = 0.6745 * (df.loc[mask, 'USD_amount'] - df.loc[mask, f'stat_{days}d_median']) / df.loc[mask, f'stat_{days}d_mad']\n",
      "C:\\Users\\dandr\\AppData\\Local\\Temp\\ipykernel_27228\\427450559.py:21: FutureWarning: Setting an item of incompatible dtype is deprecated and will raise an error in a future version of pandas. Value '[-0.75537587 -0.71842289 -0.80879283 ... -0.70774969  1.19674561\n",
      " -0.60593963]' has dtype incompatible with int64, please explicitly cast to a compatible dtype first.\n",
      "  result[mask] = 0.6745 * (df.loc[mask, 'USD_amount'] - df.loc[mask, f'stat_{days}d_median']) / df.loc[mask, f'stat_{days}d_mad']\n"
     ]
    }
   ],
   "source": [
    "def calculate_modified_zscore(df, days_list):\n",
    "    \"\"\"\n",
    "    Calculate modified z-score based on given conditions for multiple day periods\n",
    "    \n",
    "    Args:\n",
    "        df: pandas DataFrame\n",
    "        days_list: list of integers representing different day periods\n",
    "    \n",
    "    Returns:\n",
    "        DataFrame with modified z-scores for each period\n",
    "    \"\"\"\n",
    "    for days in days_list:\n",
    "    # Calculate 75th percentile threshold\n",
    "        p75 = df[f'velocity_{days}d_count'].quantile(0.75)\n",
    "        \n",
    "        # Initialize result series with zeros\n",
    "        result = pd.Series(0, index=df.index)\n",
    "        \n",
    "        # Calculate modified z-score for rows where count > P75\n",
    "        mask = df[f'velocity_{days}d_count'] > p75\n",
    "        result[mask] = 0.6745 * (df.loc[mask, 'USD_amount'] - df.loc[mask, f'stat_{days}d_median']) / df.loc[mask, f'stat_{days}d_mad']\n",
    "        \n",
    "        # Assign result to new column\n",
    "        df[f'stat_{days}d_modzscr'] = result\n",
    "    \n",
    "    return df\n",
    "\n",
    "df1_mod = calculate_modified_zscore(df1, [7, 14, 30])\n",
    "df2_mod = calculate_modified_zscore(df2, [7, 14, 30])\n",
    "# df3_mod = calculate_modified_zscore(df3, [7, 14, 30])"
   ]
  },
  {
   "cell_type": "code",
   "execution_count": 4,
   "metadata": {},
   "outputs": [],
   "source": [
    "df1_mod.to_parquet('../data/jp_morgan/sorted/transaction_metrics_final_aml_v4_cbflag_mod.parquet')\n",
    "df2_mod.to_parquet('../data/jp_morgan/sorted/transaction_metrics_final_fraud_v4_cbflag_mod.parquet')\n",
    "# df3_mod.to_parquet('../data/jp_morgan/sorted/transaction_metrics_final_ds3_v4_cbflag_mod.parquet')"
   ]
  },
  {
   "cell_type": "code",
   "execution_count": null,
   "metadata": {},
   "outputs": [],
   "source": []
  }
 ],
 "metadata": {
  "kernelspec": {
   "display_name": "Python 3",
   "language": "python",
   "name": "python3"
  },
  "language_info": {
   "codemirror_mode": {
    "name": "ipython",
    "version": 3
   },
   "file_extension": ".py",
   "mimetype": "text/x-python",
   "name": "python",
   "nbconvert_exporter": "python",
   "pygments_lexer": "ipython3",
   "version": "3.11.10"
  }
 },
 "nbformat": 4,
 "nbformat_minor": 2
}
