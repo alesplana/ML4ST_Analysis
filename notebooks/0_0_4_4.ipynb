{
 "cells": [
  {
   "cell_type": "code",
   "execution_count": null,
   "metadata": {},
   "outputs": [],
   "source": [
    "import pandas as pd\n",
    "from sklearn.model_selection import train_test_split\n",
    "from sklearn.feature_selection import mutual_info_classif\n",
    "from sklearn.preprocessing import OneHotEncoder\n",
    "\n",
    "# Assume 'df' is your dataframe with features and 'Label' column \n",
    "train_df, test_df = train_test_split(df, test_size=0.3, stratify=df['Label'])\n",
    "\n",
    "# Separate features and labels\n",
    "X_train = train_df.drop('Label', axis=1)  \n",
    "y_train = train_df['Label']\n",
    "\n",
    "# One-hot encode categorical string columns\n",
    "ohe = OneHotEncoder()\n",
    "\n",
    "str_cols = X_train.select_dtypes(include='object').columns\n",
    "str_cols_ohe = ohe.fit_transform(X_train[str_cols]).toarray()\n",
    "str_cols_ohe_names = ohe.get_feature_names_out(str_cols)\n",
    "\n",
    "# Replace string columns with one-hot encoded columns\n",
    "X_train_ohe = X_train.drop(columns=str_cols).join(pd.DataFrame(str_cols_ohe, columns=str_cols_ohe_names, index=X_train.index))\n",
    "\n",
    "# Calculate mutual information scores\n",
    "mi_scores = mutual_info_classif(X_train_ohe, y_train)\n",
    "\n",
    "# Create dataframe of feature names and MI scores \n",
    "feat_scores = pd.DataFrame({'Feature': X_train_ohe.columns, 'MI Score': mi_scores})\n",
    "\n",
    "# Select top k features based on MI score\n",
    "k = 20\n",
    "top_features = feat_scores.nlargest(k, 'MI Score')['Feature'].tolist()\n",
    "\n",
    "print(f\"Top {k} features selected by mutual information:\")\n",
    "print(top_features)\n",
    "\n"
   ]
  },
  {
   "cell_type": "code",
   "execution_count": 1,
   "metadata": {},
   "outputs": [],
   "source": [
    "import networkx as nx\n",
    "\n",
    "# Create an empty MultiDiGraph\n",
    "G = nx.MultiDiGraph()\n",
    "\n",
    "# Add nodes\n",
    "G.add_nodes_from([1, 2, 3, 4])\n",
    "\n",
    "# Add edges (including parallel edges)\n",
    "G.add_edge(1, 2, weight=0.5)\n",
    "G.add_edge(1, 2, weight=0.7)  # Parallel edge\n",
    "G.add_edge(2, 3, weight=0.6)\n",
    "G.add_edge(3, 4, weight=0.8)\n",
    "G.add_edge(4, 1, weight=0.9)\n",
    "G.add_edge(2, 4, weight=0.4)\n",
    "\n",
    "import pickle\n",
    "\n",
    "with open('../data/jp_morgan/pickled/test.pickle', 'wb') as f:\n",
    "    pickle.dump(G, f)"
   ]
  },
  {
   "cell_type": "code",
   "execution_count": null,
   "metadata": {},
   "outputs": [],
   "source": []
  }
 ],
 "metadata": {
  "kernelspec": {
   "display_name": "mscds_dsrtn",
   "language": "python",
   "name": "python3"
  },
  "language_info": {
   "codemirror_mode": {
    "name": "ipython",
    "version": 3
   },
   "file_extension": ".py",
   "mimetype": "text/x-python",
   "name": "python",
   "nbconvert_exporter": "python",
   "pygments_lexer": "ipython3",
   "version": "3.11.10"
  }
 },
 "nbformat": 4,
 "nbformat_minor": 2
}
