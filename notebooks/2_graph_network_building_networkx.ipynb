{
 "cells": [
  {
   "cell_type": "code",
   "execution_count": 15,
   "metadata": {},
   "outputs": [],
   "source": [
    "import pandas as pd\n",
    "import networkx as nx\n",
    "from datetime import datetime\n",
    "from typing import List, Dict, Any, Tuple\n",
    "import numpy as np"
   ]
  },
  {
   "cell_type": "code",
   "execution_count": 16,
   "metadata": {},
   "outputs": [],
   "source": [
    "entities_df = pd.read_parquet('../data/jp_morgan/sorted/entities_final_fraud.parquet')\n",
    "transactions_df =  pd.read_parquet('../data/jp_morgan/sorted/nodes_final_fraud.parquet')"
   ]
  },
  {
   "cell_type": "code",
   "execution_count": 17,
   "metadata": {},
   "outputs": [],
   "source": [
    "import networkx as nx\n",
    "import pandas as pd\n",
    "from typing import Optional\n",
    "\n",
    "class TransactionGraph:\n",
    "    def __init__(self):\n",
    "        self.G = nx.MultiDiGraph()\n",
    "        # Create CASH node\n",
    "        self.G.add_node('CASH', node_type='CASH')\n",
    "        \n",
    "    def add_entity_node(self, entity_id: str, country: Optional[str] = None):\n",
    "        \"\"\"Add an entity node with optional country info\"\"\"\n",
    "        node_type = 'ENTITY' if country else 'STANDALONE'\n",
    "        attrs = {'node_type': node_type}\n",
    "        if country:\n",
    "            attrs['country'] = country\n",
    "        self.G.add_node(entity_id, **attrs)\n",
    "        \n",
    "    def add_account_node(self, entity_id: str, account: str):\n",
    "        \"\"\"Add an account node and link it to its parent entity\"\"\"\n",
    "        account_id = f\"{entity_id}_{account}\"\n",
    "        self.G.add_node(account_id, \n",
    "                       node_type='ACCOUNT',\n",
    "                       entity_id=entity_id,\n",
    "                       account_number=account)\n",
    "        self.G.add_edge(entity_id, account_id, relationship='HAS_ACCOUNT')\n",
    "        \n",
    "    def batch_create_nodes(self, df: pd.DataFrame):\n",
    "        \"\"\"Batch create nodes from a dataframe with Id, Account, Country columns\"\"\"\n",
    "        # First create all entity nodes\n",
    "        entities = df[['Id', 'Country']].drop_duplicates()\n",
    "        for _, row in entities.iterrows():\n",
    "            self.add_entity_node(str(row['Id']), row['Country'])\n",
    "            \n",
    "        # Then create account nodes where they exist\n",
    "        accounts = df[df['Account'].notna()][['Id', 'Account']]\n",
    "        for _, row in accounts.iterrows():\n",
    "            self.add_account_node(str(row['Id']), str(row['Account']))\n",
    "\n",
    "\n",
    "    def add_transaction_edge(self, party_id: str, counterparty_id: str,\n",
    "                           transaction_id: str, amount: float,\n",
    "                           txn_time_hr: int, txn_time_mm: int, txn_age_days: int,\n",
    "                           is_credit: bool, std_txn_type: str):\n",
    "        \"\"\"Add a transaction edge between nodes with relative time and direction based on credit flag\n",
    "        \n",
    "        Args:\n",
    "            party_id: ID of the party node\n",
    "            counterparty_id: ID of the counterparty node \n",
    "            transaction_id: Unique transaction identifier\n",
    "            amount: Transaction amount\n",
    "            txn_time_hr: Hour of transaction (0-23)\n",
    "            txn_time_mm: Minute of transaction (0-59) \n",
    "            txn_age_days: Days since transaction\n",
    "            is_credit: True if money flows into party account, False if flows out\n",
    "            std_txn_type: Standardized transaction type\n",
    "        \"\"\"\n",
    "        # For deposits/withdrawals, use CASH node\n",
    "        if std_txn_type in ['DEPOSIT', 'WITHDRAWAL']:\n",
    "            if std_txn_type == 'DEPOSIT':\n",
    "                from_id = 'CASH'\n",
    "                to_id = party_id\n",
    "            else:  # WITHDRAWAL\n",
    "                from_id = party_id\n",
    "                to_id = 'CASH'\n",
    "        else:\n",
    "            # For other transactions, direction based on is_credit\n",
    "            if is_credit:\n",
    "                from_id = counterparty_id\n",
    "                to_id = party_id\n",
    "            else:\n",
    "                from_id = party_id\n",
    "                to_id = counterparty_id\n",
    "                \n",
    "        self.G.add_edge(from_id, to_id,\n",
    "                       transaction_id=transaction_id,\n",
    "                       amount=amount,\n",
    "                       txn_time_hr=txn_time_hr,\n",
    "                       txn_time_mm=txn_time_mm, \n",
    "                       txn_age_days=txn_age_days,\n",
    "                       relationship='TRANSACTION',\n",
    "                       std_txn_type=std_txn_type)\n",
    "\n",
    "    def batch_add_transaction_edges(self, df: pd.DataFrame):\n",
    "        \"\"\"Batch add transaction edges from a dataframe\n",
    "        \n",
    "        Args:\n",
    "            df: DataFrame with columns:\n",
    "                - party_id: ID of the party node\n",
    "                - counterparty_id: ID of the counterparty node\n",
    "                - transaction_id: Unique transaction identifier \n",
    "                - amount: Transaction amount\n",
    "                - txn_time_hr: Hour of transaction (0-23)\n",
    "                - txn_time_mm: Minute of transaction (0-59)\n",
    "                - txn_age_days: Age of entity on transaction\n",
    "                - is_credit: True if money flows into party account\n",
    "                - std_txn_type: Standardised transaction type\n",
    "        \"\"\"\n",
    "        # Vectorized processing of from_id and to_id based on transaction type\n",
    "        df['from_id'] = df.apply(lambda x: \n",
    "            'CASH' if x['std_txn_type'] == 'DEPOSIT' else\n",
    "            x['party_id'] if x['std_txn_type'] == 'WITHDRAWAL' else\n",
    "            x['counterparty_id'] if x['is_credit'] else x['party_id'], axis=1)\n",
    "            \n",
    "        df['to_id'] = df.apply(lambda x:\n",
    "            x['party_id'] if x['std_txn_type'] == 'DEPOSIT' else\n",
    "            'CASH' if x['std_txn_type'] == 'WITHDRAWAL' else\n",
    "            x['party_id'] if x['is_credit'] else x['counterparty_id'], axis=1)\n",
    "\n",
    "        # Batch add edges\n",
    "        edges = [(row['from_id'], row['to_id'], {\n",
    "            'transaction_id': row['transaction_id'],\n",
    "            'amount': row['amount'],\n",
    "            'txn_time_hr': row['txn_time_hr'],\n",
    "            'txn_time_mm': row['txn_time_mm'],\n",
    "            'txn_age_days': row['txn_age_days'],\n",
    "            'relationship': 'TRANSACTION',\n",
    "            'std_txn_type': row['std_txn_type']\n",
    "        }) for _, row in df.iterrows()]\n",
    "        \n",
    "        self.G.add_edges_from(edges)\n",
    "        \n",
    "    \n",
    "    # def add_transaction_edge(self, from_id: str, to_id: str, \n",
    "    #                        transaction_id: str, amount: float, \n",
    "    #                        timestamp: str):\n",
    "    #     \"\"\"Add a transaction edge between nodes\"\"\"\n",
    "    #     self.G.add_edge(from_id, to_id,\n",
    "    #                    transaction_id=transaction_id,\n",
    "    #                    amount=amount,\n",
    "    #                    timestamp=timestamp,\n",
    "    #                    relationship='TRANSACTION')\n",
    "\n",
    "# Example usage:\n",
    "# graph = TransactionGraph()\n",
    "# df = pd.DataFrame({\n",
    "#     'Id': ['E1', 'E2', 'E3'],\n",
    "#     'Account': ['A1', 'A2', None],\n",
    "#     'Country': ['US', 'UK', None]\n",
    "# })\n",
    "# graph.batch_create_nodes(df)\n",
    "# \n",
    "# # Add a transaction\n",
    "# graph.add_transaction_edge('E1_A1', 'E2_A2', 'T1', 1000.0, '2023-01-01')\n"
   ]
  },
  {
   "cell_type": "code",
   "execution_count": 18,
   "metadata": {},
   "outputs": [],
   "source": [
    "graph = TransactionGraph()"
   ]
  },
  {
   "cell_type": "code",
   "execution_count": 19,
   "metadata": {},
   "outputs": [],
   "source": [
    "graph.batch_create_nodes(entities_df)"
   ]
  },
  {
   "cell_type": "code",
   "execution_count": 20,
   "metadata": {},
   "outputs": [],
   "source": [
    "graph.batch_add_transaction_edges(transactions_df)"
   ]
  },
  {
   "cell_type": "code",
   "execution_count": null,
   "metadata": {},
   "outputs": [],
   "source": [
    "graph.G.size()"
   ]
  },
  {
   "cell_type": "code",
   "execution_count": 22,
   "metadata": {},
   "outputs": [],
   "source": [
    "import pickle\n",
    "\n",
    "with open('../data/jp_morgan/pickled/graph_fraud_final.pickle', 'wb') as f:\n",
    "    pickle.dump(graph.G, f)"
   ]
  },
  {
   "cell_type": "code",
   "execution_count": null,
   "metadata": {},
   "outputs": [],
   "source": [
    "nx.draw(graph.G)"
   ]
  },
  {
   "cell_type": "code",
   "execution_count": 17,
   "metadata": {},
   "outputs": [],
   "source": [
    "from pyvis.network import Network\n",
    "\n",
    "nx_graph = graph.G\n",
    "nt = Network('1000px', '1000px')\n",
    "nt.from_nx(nx_graph)\n",
    "nt.save_graph('nx.html', )"
   ]
  },
  {
   "cell_type": "code",
   "execution_count": null,
   "metadata": {},
   "outputs": [],
   "source": []
  },
  {
   "cell_type": "code",
   "execution_count": null,
   "metadata": {},
   "outputs": [],
   "source": [
    "graph.G.edges.data()"
   ]
  },
  {
   "cell_type": "code",
   "execution_count": null,
   "metadata": {},
   "outputs": [],
   "source": [
    "graph.G.is_multigraph()"
   ]
  },
  {
   "cell_type": "code",
   "execution_count": null,
   "metadata": {},
   "outputs": [],
   "source": []
  }
 ],
 "metadata": {
  "kernelspec": {
   "display_name": "Python 3",
   "language": "python",
   "name": "python3"
  },
  "language_info": {
   "codemirror_mode": {
    "name": "ipython",
    "version": 3
   },
   "file_extension": ".py",
   "mimetype": "text/x-python",
   "name": "python",
   "nbconvert_exporter": "python",
   "pygments_lexer": "ipython3",
   "version": "3.11.10"
  }
 },
 "nbformat": 4,
 "nbformat_minor": 2
}
