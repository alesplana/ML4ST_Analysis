{
 "cells": [
  {
   "cell_type": "code",
   "execution_count": 1,
   "metadata": {},
   "outputs": [],
   "source": [
    "# Project Modules\n",
    "import pandas as pd\n",
    "import numpy as np\n",
    "import matplotlib.pyplot as plt\n",
    "\n",
    "# Paths\n",
    "data_dir = '../data/jp_morgan'"
   ]
  },
  {
   "cell_type": "code",
   "execution_count": 2,
   "metadata": {},
   "outputs": [],
   "source": [
    "# Load data\n",
    "aml_data = pd.read_csv(f'{data_dir}/aml_syn_data.csv')\n",
    "fraud_data = pd.read_csv(f'{data_dir}/fraud_payment_data.csv')\n",
    "\n"
   ]
  },
  {
   "cell_type": "code",
   "execution_count": 3,
   "metadata": {},
   "outputs": [],
   "source": [
    "common_columns = [\n",
    "    'Time_step',\n",
    "    'Label',\n",
    "    'Transaction_Id',\n",
    "    'Transaction_Type',\n",
    "    'Sender_Id',\n",
    "    'Sender_Account',\n",
    "    'Sender_Country',\n",
    "    'Bene_Id', \n",
    "    'Bene_Account',\n",
    "    'Bene_Country',\n",
    "    'USD_amount',\n",
    "]\n",
    "aml_data = aml_data[common_columns]\n",
    "fraud_data = fraud_data[common_columns]"
   ]
  },
  {
   "cell_type": "markdown",
   "metadata": {},
   "source": [
    "Feature Columns:\n",
    "* hour of transaction\n",
    "* normalised age on transaction"
   ]
  },
  {
   "cell_type": "code",
   "execution_count": 4,
   "metadata": {},
   "outputs": [],
   "source": [
    "# AML Data Preprocessing\n",
    "# Filter only money movements\n",
    "aml_data = aml_data[aml_data['Transaction_Type'].isin(['WIRE', 'PAYMENT', 'WITHDRAWL', 'CASH-DEPOSIT', 'CRYPTO-TRANSFER'])].reset_index()\n",
    "\n",
    "# Identify if row is reversed for party v counterparty retabling\n",
    "def party_reverse_flag(df, sender_col='Sender_Id', bene_col='Bene_Id', transaction_col='Transaction_Type'):\n",
    "    df.loc[:, 'sender_type'] = df[sender_col].str.split('-').str[:2].str.join('-')\n",
    "    df.loc[:, 'benef_type'] = df[bene_col].str.split('-').str[:2].str.join('-')\n",
    "    condition = (\n",
    "        (df[transaction_col] == 'CASH-DEPOSIT') |\n",
    "        ((df[transaction_col] == 'WIRE') & (df['benef_type'] == 'JPMC-CLIENT'))\n",
    "    )\n",
    "    df.loc[:, 'reversed'] = condition\n",
    "    return df\n",
    "\n",
    "aml_data = party_reverse_flag(aml_data)"
   ]
  },
  {
   "cell_type": "code",
   "execution_count": 5,
   "metadata": {},
   "outputs": [],
   "source": [
    "# Create party v counterparty retabling\n",
    "def new_table(df, rev_col='reversed', retained_cols=[]):\n",
    "    for type in ('Id', 'Account', 'Country'):\n",
    "        df.loc[:, f'party_{type}'] = df[f'Sender_{type}'].where(~df[rev_col], df[f'Bene_{type}'])\n",
    "        df.loc[:, f'cparty_{type}'] = df[f'Bene_{type}'].where(~df[rev_col], df[f'Sender_{type}'])\n",
    "    retained_cols.extend(['party_Id', 'party_Account', 'party_Country',\n",
    "                          'cparty_Id', 'cparty_Account', 'cparty_Country'])\n",
    "    new_table = df[retained_cols]\n",
    "    return new_table\n",
    "\n",
    "aml_data = new_table(aml_data, retained_cols=['Time_step', 'Label',\n",
    "    'Transaction_Id',\n",
    "    'Transaction_Type',\n",
    "    'USD_amount'])"
   ]
  },
  {
   "cell_type": "code",
   "execution_count": 6,
   "metadata": {},
   "outputs": [],
   "source": [
    "# Normalise date and extract hour minutes\n",
    "def feature_time(df, dt_column='Time_step'):\n",
    "    time_series = pd.to_datetime(df[dt_column])\n",
    "    df['time_hr'] = time_series.dt.hour\n",
    "    df['time_mm'] = time_series.dt.minute\n",
    "    \n",
    "    return df\n",
    "\n",
    "def normalise_date(df, dt_column='Time_step', primary_col='party_Id'):\n",
    "    time_series = pd.to_datetime(df[dt_column])\n",
    "    df['txn_age'] = (time_series - time_series.groupby(df[primary_col]).transform('min')).dt.days\n",
    "    \n",
    "    return df\n",
    "\n",
    "aml_data = feature_time(aml_data)\n",
    "aml_data = normalise_date(aml_data)\n"
   ]
  },
  {
   "cell_type": "code",
   "execution_count": 21,
   "metadata": {},
   "outputs": [],
   "source": [
    "# Extract previous transaction details\n",
    "def fill_prev_txn(df, primary_key='party_Id', dt_column='Time_step', columns_to_fill=[], shift=1, include_age_delta=False):\n",
    "    core_columns = [primary_key, dt_column]\n",
    "    temp_df = df[core_columns + columns_to_fill].copy()\n",
    "\n",
    "    temp_df[dt_column] = pd.to_datetime(temp_df[dt_column])\n",
    "    temp_df = temp_df.sort_values([primary_key, dt_column])\n",
    "    \n",
    "    new_columns = ['prev_' + col for col in columns_to_fill]\n",
    "\n",
    "    temp_df[new_columns] = temp_df.groupby(primary_key)[columns_to_fill].shift(shift)\n",
    "    if include_age_delta:\n",
    "        temp_df['prev_age_delta'] = ((temp_df[dt_column] - temp_df.groupby(primary_key)[dt_column].shift(shift)).dt.total_seconds())/(24 * 3600)\n",
    "        new_columns.append('prev_age_delta')\n",
    "    \n",
    "    return df.merge(temp_df[new_columns], left_index=True, right_index=True)\n",
    "\n",
    "aml_data = fill_prev_txn(aml_data, columns_to_fill=['Transaction_Type', 'USD_amount'])"
   ]
  },
  {
   "cell_type": "code",
   "execution_count": 22,
   "metadata": {},
   "outputs": [],
   "source": [
    "aml_data = fill_prev_txn(aml_data, include_age_delta=True)"
   ]
  },
  {
   "cell_type": "code",
   "execution_count": null,
   "metadata": {},
   "outputs": [],
   "source": [
    "# Transaction Volume Deviation"
   ]
  },
  {
   "cell_type": "code",
   "execution_count": null,
   "metadata": {},
   "outputs": [],
   "source": [
    "# Scratch\n",
    "\n",
    "# Loaded variable 'aml_data' from kernel state\n",
    "\n",
    "aml_data['Time_step'] = pd.to_datetime(aml_data['Time_step'])\n",
    "\n",
    "aml_data['txn_dt_min'] = aml_data.groupby('party_Id')['Time_step'].transform('min')\n",
    "aml_data.loc[:, 'txn_age'] = (aml_data['Time_step'].dt.date - aml_data['txn_dt_min'].dt.date)"
   ]
  },
  {
   "cell_type": "code",
   "execution_count": 10,
   "metadata": {},
   "outputs": [],
   "source": [
    "test_b = aml_data[:10].copy()\n",
    "test_b.columns = ['b_' + x for x in test_b.columns]\n",
    "test_a = aml_data[:10].copy()"
   ]
  },
  {
   "cell_type": "code",
   "execution_count": 9,
   "metadata": {},
   "outputs": [],
   "source": [
    "df = aml_data.copy()"
   ]
  },
  {
   "cell_type": "code",
   "execution_count": 19,
   "metadata": {},
   "outputs": [],
   "source": [
    "df = feature_time(df, 'Time_step')"
   ]
  },
  {
   "cell_type": "code",
   "execution_count": 11,
   "metadata": {},
   "outputs": [],
   "source": [
    "df['Time_step']\n",
    "timestamp = pd.to_datetime(df['Time_step'])"
   ]
  },
  {
   "cell_type": "code",
   "execution_count": 6,
   "metadata": {},
   "outputs": [
    {
     "ename": "SyntaxError",
     "evalue": "invalid syntax (1547740258.py, line 1)",
     "output_type": "error",
     "traceback": [
      "\u001b[0;36m  Cell \u001b[0;32mIn[6], line 1\u001b[0;36m\u001b[0m\n\u001b[0;31m    aml_senders = aml_data[['Sender_Id', 'Sender_Account']].drop_duplicates().\u001b[0m\n\u001b[0m                                                                              ^\u001b[0m\n\u001b[0;31mSyntaxError\u001b[0m\u001b[0;31m:\u001b[0m invalid syntax\n"
     ]
    }
   ],
   "source": [
    "aml_senders = aml_data[['Sender_Id', 'Sender_Account']].drop_duplicates().\n",
    "fraud_senders = fraud_data[['Sender_Id', 'Sender_Account']].drop_duplicates()"
   ]
  },
  {
   "cell_type": "code",
   "execution_count": 12,
   "metadata": {},
   "outputs": [
    {
     "data": {
      "image/png": "[encoded data removed]",
      "text/plain": [
       "<Figure size 640x480 with 1 Axes>"
      ]
     },
     "metadata": {},
     "output_type": "display_data"
    }
   ],
   "source": [
    "def plot_hist_df(df):\n",
    "    df['date'] = pd.to_datetime(df['Time_step'])\n",
    "    # Extract the year and month\n",
    "    df['year'] = df['date'].dt.year\n",
    "    df['month'] = df['date'].dt.month\n",
    "\n",
    "    # Plot the distribution of months per year\n",
    "    df.groupby(['year', 'month']).size().unstack().plot(kind='bar', stacked=True)\n",
    "\n",
    "    plt.xlabel('Year')\n",
    "    plt.ylabel('Count of Entries')\n",
    "    plt.title('Month Distribution per Year')\n",
    "    plt.show()\n",
    "\n",
    "plot_hist_df(aml_data)"
   ]
  },
  {
   "cell_type": "code",
   "execution_count": 22,
   "metadata": {},
   "outputs": [
    {
     "data": {
      "text/plain": [
       "0          0\n",
       "1          0\n",
       "2          0\n",
       "3          0\n",
       "4          0\n",
       "          ..\n",
       "1484531    0\n",
       "1484532    0\n",
       "1484533    0\n",
       "1484534    0\n",
       "1484535    0\n",
       "Name: Label, Length: 1484536, dtype: int64"
      ]
     },
     "execution_count": 22,
     "metadata": {},
     "output_type": "execute_result"
    }
   ],
   "source": [
    "aml_data['Label'].map({'GOOD': 0, 'BAD': 1})"
   ]
  },
  {
   "cell_type": "code",
   "execution_count": null,
   "metadata": {},
   "outputs": [],
   "source": []
  }
 ],
 "metadata": {
  "kernelspec": {
   "display_name": "Python 3",
   "language": "python",
   "name": "python3"
  },
  "language_info": {
   "codemirror_mode": {
    "name": "ipython",
    "version": 3
   },
   "file_extension": ".py",
   "mimetype": "text/x-python",
   "name": "python",
   "nbconvert_exporter": "python",
   "pygments_lexer": "ipython3",
   "version": "3.11.10"
  }
 },
 "nbformat": 4,
 "nbformat_minor": 2
}
