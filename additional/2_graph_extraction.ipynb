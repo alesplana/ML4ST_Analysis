{
 "cells": [
  {
   "cell_type": "code",
   "execution_count": 9,
   "metadata": {},
   "outputs": [
    {
     "name": "stdout",
     "output_type": "stream",
     "text": [
      "100\n",
      "['OWNER-369323-06', 'OWNER-289159-11_CHECKING-289162-11', 'CUSTOMER-1395495-00_CHECKING-1395496-00', 'OWNER-1641076-06', 'OWNER-404599-10_CHECKING-404602-10', 'OWNER-485904-14_CHECKING-485907-14', 'JPMC-CLIENT-2600467-00_CHECKING-2600475-00', 'BILLING-COMPANY-210823-10_CHECKING-210821-10', 'JPMC-CLIENT-951368-10_CHECKING-951374-10', 'JPMC-CUSTOMER-343887-00_CHECKING-343890-00', 'OWNER-137028-02_CHECKING-137031-02', 'JPMC-CLIENT-1856846-00_CHECKING-1856854-00', 'OWNER-521573-14_CHECKING-521576-14', 'OWNER-85257-01', 'OWNER-1487371-04_CHECKING-1487374-04', 'CHECKING-82600-14', 'OWNER-1518553-04_CHECKING-1518556-04', 'OWNER-58456-10', 'JPMC-CLIENT-1478392-00_CHECKING-1478399-00', 'BILLING-COMPANY-101103-14', 'STANDARD-COMPANY-2876363-00', 'OWNER-76443-06', 'OWNER-561212-11_CHECKING-561215-11', 'JPMC-CLIENT-1995266-00', 'OWNER-225681-01_CHECKING-225684-01', 'OWNER-1352044-06_CHECKING-1352047-06', 'BILLING-COMPANY-990233-05', 'OWNER-2153419-04', 'CHECKING-621854-04', 'OWNER-571827-11_CHECKING-571830-11', 'CUSTOMER-887294-00_CHECKING-887297-00', 'OWNER-666982-05_CHECKING-666985-05', 'BILLING-COMPANY-79133-14', 'OWNER-363317-05_CHECKING-363320-05', 'OWNER-2145822-04_CHECKING-2145825-04', 'JPMC-BILLING-COMPANY-108885-00', 'JPMC-CLIENT-229240-02_CHECKING-229247-02', 'OWNER-2393196-04', 'OWNER-85586-05_CHECKING-85589-05', 'OWNER-888960-11_CHECKING-888963-11', 'OWNER-624870-11_CHECKING-624873-11', 'BILLING-COMPANY-424750-04', 'OWNER-496477-06_CHECKING-496480-06', 'OWNER-764553-05', 'JPMC-CLIENT-1977322-00', 'OWNER-1267890-11', 'OWNER-1114674-04', 'OWNER-414539-01_CHECKING-414542-01', 'OWNER-1368815-10', 'CUSTOMER-736070-00_CHECKING-736071-00', 'OWNER-648597-14_CHECKING-648600-14', 'BILLING-COMPANY-56978-03', 'JPMC-CLIENT-1570366-00_CHECKING-1570374-00', 'JPMC-CLIENT-1089543-00_CHECKING-1089550-00', 'JPMC-CLIENT-1920826-04_CHECKING-1920835-04', 'OWNER-1448375-10', 'OWNER-1657774-04_CHECKING-1657777-04', 'CHECKING-653594-10', 'OWNER-1191161-06_CHECKING-1191164-06', 'JPMC-BILLING-COMPANY-107883-14', 'JPMC-BILLING-COMPANY-1395438-06', 'CUSTOMER-754924-00', 'JPMC-CLIENT-118585-00_DIGITAL-MONEY-118591-00', 'OWNER-293272-04', 'JPMC-CLIENT-1639840-04_CHECKING-1639847-04', 'OWNER-18321-13', 'JPMC-CLIENT-927616-11_CHECKING-927629-11', 'BILLING-COMPANY-342087-01_CHECKING-342085-01', 'OWNER-66429-09', 'OWNER-306653-07_CHECKING-306656-07', 'JPMC-CLIENT-1260584-10', 'COMPANY-1190229-11', 'CHECKING-917870-05', 'BILLING-COMPANY-705697-11_CHECKING-705695-11', 'OWNER-516461-06_CHECKING-516464-06', 'BILLING-COMPANY-156245-07', 'JPMC-CLIENT-257233-07_CHECKING-257241-07', 'JPMC-CLIENT-180086-05', 'OWNER-1439181-04_CHECKING-1439184-04', 'CUSTOMER-2085404-00', 'JPMC-CLIENT-674461-14_CHECKING-674469-14', 'JPMC-CLIENT-833125-06', 'OWNER-1120567-06_CHECKING-1120570-06', 'OWNER-454658-04', 'CHECKING-2214615-04', 'OWNER-426426-04_CHECKING-426429-04', 'OWNER-174383-03', 'OWNER-898516-05_CHECKING-898519-05', 'OWNER-774558-04', 'BILLING-COMPANY-2973182-00_CHECKING-2973180-00', 'STANDARD-COMPANY-748143-00', 'CHECKING-641346-07', 'OWNER-1407466-10', 'CUSTOMER-2520816-00', 'OWNER-73146-12', 'STANDARD-COMPANY-2148935-00', 'JPMC-CLIENT-944109-05_CHECKING-944116-05', 'JPMC-CLIENT-674578-00', 'OWNER-449057-05_CHECKING-449060-05', 'OWNER-418685-07_CHECKING-418688-07']\n"
     ]
    }
   ],
   "source": [
    "import pickle\n",
    "import networkx as nx\n",
    "\n",
    "with open('../data/jp_morgan/pickled/graph_aml_final.pickle', 'rb') as f:\n",
    "    G = pickle.load(f)\n",
    "\n",
    "import random \n",
    "random_nodes = random.sample(list(G.nodes()), 100)\n",
    "print(len(random_nodes))\n",
    "random_subgraph = nx.MultiDiGraph(G.subgraph(random_nodes))\n",
    "\n",
    "print(random_subgraph.nodes())\n",
    "\n",
    "with open('../data/jp_morgan/pickled/test.pickle', 'wb') as f:\n",
    "    pickle.dump(random_subgraph, f)\n"
   ]
  },
  {
   "cell_type": "code",
   "execution_count": 2,
   "metadata": {},
   "outputs": [
    {
     "ename": "KeyboardInterrupt",
     "evalue": "",
     "output_type": "error",
     "traceback": [
      "\u001b[1;31m---------------------------------------------------------------------------\u001b[0m",
      "\u001b[1;31mKeyboardInterrupt\u001b[0m                         Traceback (most recent call last)",
      "Cell \u001b[1;32mIn[2], line 86\u001b[0m\n\u001b[0;32m     82\u001b[0m         global_metrics[\u001b[38;5;124m'\u001b[39m\u001b[38;5;124mgraph_assortativity\u001b[39m\u001b[38;5;124m'\u001b[39m] \u001b[38;5;241m=\u001b[39m \u001b[38;5;28;01mNone\u001b[39;00m\n\u001b[0;32m     84\u001b[0m     \u001b[38;5;28;01mreturn\u001b[39;00m global_metrics\n\u001b[1;32m---> 86\u001b[0m node_metrics \u001b[38;5;241m=\u001b[39m \u001b[43mextract_node_metrics\u001b[49m\u001b[43m(\u001b[49m\u001b[43mgraph\u001b[49m\u001b[43m)\u001b[49m\n",
      "Cell \u001b[1;32mIn[2], line 25\u001b[0m, in \u001b[0;36mextract_node_metrics\u001b[1;34m(G)\u001b[0m\n\u001b[0;32m     23\u001b[0m metrics[\u001b[38;5;124m'\u001b[39m\u001b[38;5;124mdegree\u001b[39m\u001b[38;5;124m'\u001b[39m] \u001b[38;5;241m=\u001b[39m \u001b[38;5;28mdict\u001b[39m(G\u001b[38;5;241m.\u001b[39mdegree())\n\u001b[0;32m     24\u001b[0m metrics[\u001b[38;5;124m'\u001b[39m\u001b[38;5;124mdegree_centrality\u001b[39m\u001b[38;5;124m'\u001b[39m] \u001b[38;5;241m=\u001b[39m nx\u001b[38;5;241m.\u001b[39mdegree_centrality(G)\n\u001b[1;32m---> 25\u001b[0m metrics[\u001b[38;5;124m'\u001b[39m\u001b[38;5;124mbetweenness_centrality\u001b[39m\u001b[38;5;124m'\u001b[39m] \u001b[38;5;241m=\u001b[39m \u001b[43mnx\u001b[49m\u001b[38;5;241;43m.\u001b[39;49m\u001b[43mbetweenness_centrality\u001b[49m\u001b[43m(\u001b[49m\u001b[43mG\u001b[49m\u001b[43m)\u001b[49m\n\u001b[0;32m     26\u001b[0m metrics[\u001b[38;5;124m'\u001b[39m\u001b[38;5;124mcloseness_centrality\u001b[39m\u001b[38;5;124m'\u001b[39m] \u001b[38;5;241m=\u001b[39m nx\u001b[38;5;241m.\u001b[39mcloseness_centrality(G)\n\u001b[0;32m     27\u001b[0m metrics[\u001b[38;5;124m'\u001b[39m\u001b[38;5;124meigenvector_centrality\u001b[39m\u001b[38;5;124m'\u001b[39m] \u001b[38;5;241m=\u001b[39m nx\u001b[38;5;241m.\u001b[39meigenvector_centrality(G, max_iter\u001b[38;5;241m=\u001b[39m\u001b[38;5;241m1000\u001b[39m)\n",
      "File \u001b[1;32mc:\\Users\\al2-esplana\\.conda\\envs\\mscds_dsrtn\\Lib\\site-packages\\networkx\\utils\\decorators.py:788\u001b[0m, in \u001b[0;36margmap.__call__.<locals>.func\u001b[1;34m(_argmap__wrapper, *args, **kwargs)\u001b[0m\n\u001b[0;32m    787\u001b[0m \u001b[38;5;28;01mdef\u001b[39;00m \u001b[38;5;21mfunc\u001b[39m(\u001b[38;5;241m*\u001b[39margs, __wrapper\u001b[38;5;241m=\u001b[39m\u001b[38;5;28;01mNone\u001b[39;00m, \u001b[38;5;241m*\u001b[39m\u001b[38;5;241m*\u001b[39mkwargs):\n\u001b[1;32m--> 788\u001b[0m     \u001b[38;5;28;01mreturn\u001b[39;00m \u001b[43margmap\u001b[49m\u001b[38;5;241;43m.\u001b[39;49m\u001b[43m_lazy_compile\u001b[49m\u001b[43m(\u001b[49m\u001b[43m__wrapper\u001b[49m\u001b[43m)\u001b[49m\u001b[43m(\u001b[49m\u001b[38;5;241;43m*\u001b[39;49m\u001b[43margs\u001b[49m\u001b[43m,\u001b[49m\u001b[43m \u001b[49m\u001b[38;5;241;43m*\u001b[39;49m\u001b[38;5;241;43m*\u001b[39;49m\u001b[43mkwargs\u001b[49m\u001b[43m)\u001b[49m\n",
      "File \u001b[1;32m<class 'networkx.utils.decorators.argmap'> compilation 9:4\u001b[0m, in \u001b[0;36margmap_betweenness_centrality_5\u001b[1;34m(G, k, normalized, weight, endpoints, seed, backend, **backend_kwargs)\u001b[0m\n\u001b[0;32m      2\u001b[0m \u001b[38;5;28;01mimport\u001b[39;00m \u001b[38;5;21;01mcollections\u001b[39;00m\n\u001b[0;32m      3\u001b[0m \u001b[38;5;28;01mimport\u001b[39;00m \u001b[38;5;21;01mgzip\u001b[39;00m\n\u001b[1;32m----> 4\u001b[0m \u001b[38;5;28;01mimport\u001b[39;00m \u001b[38;5;21;01minspect\u001b[39;00m\n\u001b[0;32m      5\u001b[0m \u001b[38;5;28;01mimport\u001b[39;00m \u001b[38;5;21;01mitertools\u001b[39;00m\n\u001b[0;32m      6\u001b[0m \u001b[38;5;28;01mimport\u001b[39;00m \u001b[38;5;21;01mre\u001b[39;00m\n",
      "File \u001b[1;32mc:\\Users\\al2-esplana\\.conda\\envs\\mscds_dsrtn\\Lib\\site-packages\\networkx\\utils\\backends.py:967\u001b[0m, in \u001b[0;36m_dispatchable.__call__\u001b[1;34m(self, backend, *args, **kwargs)\u001b[0m\n\u001b[0;32m    965\u001b[0m     \u001b[38;5;28;01mif\u001b[39;00m backend \u001b[38;5;129;01mis\u001b[39;00m \u001b[38;5;129;01mnot\u001b[39;00m \u001b[38;5;28;01mNone\u001b[39;00m \u001b[38;5;129;01mand\u001b[39;00m backend \u001b[38;5;241m!=\u001b[39m \u001b[38;5;124m\"\u001b[39m\u001b[38;5;124mnetworkx\u001b[39m\u001b[38;5;124m\"\u001b[39m:\n\u001b[0;32m    966\u001b[0m         \u001b[38;5;28;01mraise\u001b[39;00m \u001b[38;5;167;01mImportError\u001b[39;00m(\u001b[38;5;124mf\u001b[39m\u001b[38;5;124m\"\u001b[39m\u001b[38;5;124m'\u001b[39m\u001b[38;5;132;01m{\u001b[39;00mbackend\u001b[38;5;132;01m}\u001b[39;00m\u001b[38;5;124m'\u001b[39m\u001b[38;5;124m backend is not installed\u001b[39m\u001b[38;5;124m\"\u001b[39m)\n\u001b[1;32m--> 967\u001b[0m     \u001b[38;5;28;01mreturn\u001b[39;00m \u001b[38;5;28;43mself\u001b[39;49m\u001b[38;5;241;43m.\u001b[39;49m\u001b[43morig_func\u001b[49m\u001b[43m(\u001b[49m\u001b[38;5;241;43m*\u001b[39;49m\u001b[43margs\u001b[49m\u001b[43m,\u001b[49m\u001b[43m \u001b[49m\u001b[38;5;241;43m*\u001b[39;49m\u001b[38;5;241;43m*\u001b[39;49m\u001b[43mkwargs\u001b[49m\u001b[43m)\u001b[49m\n\u001b[0;32m    969\u001b[0m \u001b[38;5;66;03m# Use `backend_name` in this function instead of `backend`.\u001b[39;00m\n\u001b[0;32m    970\u001b[0m \u001b[38;5;66;03m# This is purely for aesthetics and to make it easier to search for this\u001b[39;00m\n\u001b[0;32m    971\u001b[0m \u001b[38;5;66;03m# variable since \"backend\" is used in many comments and log/error messages.\u001b[39;00m\n\u001b[0;32m    972\u001b[0m backend_name \u001b[38;5;241m=\u001b[39m backend\n",
      "File \u001b[1;32mc:\\Users\\al2-esplana\\.conda\\envs\\mscds_dsrtn\\Lib\\site-packages\\networkx\\algorithms\\centrality\\betweenness.py:137\u001b[0m, in \u001b[0;36mbetweenness_centrality\u001b[1;34m(G, k, normalized, weight, endpoints, seed)\u001b[0m\n\u001b[0;32m    134\u001b[0m \u001b[38;5;28;01mfor\u001b[39;00m s \u001b[38;5;129;01min\u001b[39;00m nodes:\n\u001b[0;32m    135\u001b[0m     \u001b[38;5;66;03m# single source shortest paths\u001b[39;00m\n\u001b[0;32m    136\u001b[0m     \u001b[38;5;28;01mif\u001b[39;00m weight \u001b[38;5;129;01mis\u001b[39;00m \u001b[38;5;28;01mNone\u001b[39;00m:  \u001b[38;5;66;03m# use BFS\u001b[39;00m\n\u001b[1;32m--> 137\u001b[0m         S, P, sigma, _ \u001b[38;5;241m=\u001b[39m \u001b[43m_single_source_shortest_path_basic\u001b[49m\u001b[43m(\u001b[49m\u001b[43mG\u001b[49m\u001b[43m,\u001b[49m\u001b[43m \u001b[49m\u001b[43ms\u001b[49m\u001b[43m)\u001b[49m\n\u001b[0;32m    138\u001b[0m     \u001b[38;5;28;01melse\u001b[39;00m:  \u001b[38;5;66;03m# use Dijkstra's algorithm\u001b[39;00m\n\u001b[0;32m    139\u001b[0m         S, P, sigma, _ \u001b[38;5;241m=\u001b[39m _single_source_dijkstra_path_basic(G, s, weight)\n",
      "File \u001b[1;32mc:\\Users\\al2-esplana\\.conda\\envs\\mscds_dsrtn\\Lib\\site-packages\\networkx\\algorithms\\centrality\\betweenness.py:260\u001b[0m, in \u001b[0;36m_single_source_shortest_path_basic\u001b[1;34m(G, s)\u001b[0m\n\u001b[0;32m    258\u001b[0m P \u001b[38;5;241m=\u001b[39m {}\n\u001b[0;32m    259\u001b[0m \u001b[38;5;28;01mfor\u001b[39;00m v \u001b[38;5;129;01min\u001b[39;00m G:\n\u001b[1;32m--> 260\u001b[0m     P[v] \u001b[38;5;241m=\u001b[39m []\n\u001b[0;32m    261\u001b[0m sigma \u001b[38;5;241m=\u001b[39m \u001b[38;5;28mdict\u001b[39m\u001b[38;5;241m.\u001b[39mfromkeys(G, \u001b[38;5;241m0.0\u001b[39m)  \u001b[38;5;66;03m# sigma[v]=0 for v in G\u001b[39;00m\n\u001b[0;32m    262\u001b[0m D \u001b[38;5;241m=\u001b[39m {}\n",
      "\u001b[1;31mKeyboardInterrupt\u001b[0m: "
     ]
    }
   ],
   "source": [
    "import networkx as nx\n",
    "import pandas as pd\n",
    "from typing import Dict, Any\n",
    "\n",
    "def extract_node_metrics(G: nx.Graph) -> pd.DataFrame:\n",
    "    \"\"\"\n",
    "    Extract various node-level metrics from a NetworkX graph.\n",
    "    \n",
    "    Parameters:\n",
    "    -----------\n",
    "    G : nx.Graph\n",
    "        Input NetworkX graph\n",
    "        \n",
    "    Returns:\n",
    "    --------\n",
    "    pd.DataFrame\n",
    "        DataFrame containing node metrics with nodes as index\n",
    "    \"\"\"\n",
    "    # Dictionary to store all metrics\n",
    "    metrics: Dict[str, Dict[Any, float]] = {}\n",
    "    \n",
    "    # Basic centrality measures\n",
    "    metrics['degree'] = dict(G.degree())\n",
    "    metrics['degree_centrality'] = nx.degree_centrality(G)\n",
    "    metrics['betweenness_centrality'] = nx.betweenness_centrality(G)\n",
    "    metrics['closeness_centrality'] = nx.closeness_centrality(G)\n",
    "    metrics['eigenvector_centrality'] = nx.eigenvector_centrality(G, max_iter=1000)\n",
    "    \n",
    "    # Local clustering coefficient\n",
    "    metrics['clustering_coefficient'] = nx.clustering(G)\n",
    "    \n",
    "    # PageRank\n",
    "    metrics['pagerank'] = nx.pagerank(G)\n",
    "    \n",
    "    # Load centrality (if graph is connected)\n",
    "    if nx.is_connected(G):\n",
    "        metrics['load_centrality'] = nx.load_centrality(G)\n",
    "    \n",
    "    # Node connectivity and other structural metrics\n",
    "    metrics['eccentricity'] = nx.eccentricity(G) if nx.is_connected(G) else {}\n",
    "    \n",
    "    # Convert to DataFrame\n",
    "    df_metrics = pd.DataFrame(metrics)\n",
    "    \n",
    "    # Add some additional computed metrics\n",
    "    if nx.is_connected(G):\n",
    "        # Average neighbor degree\n",
    "        avg_neighbor_degree = nx.average_neighbor_degree(G)\n",
    "        df_metrics['avg_neighbor_degree'] = pd.Series(avg_neighbor_degree)\n",
    "    \n",
    "    return df_metrics\n",
    "\n",
    "def analyze_network(G: nx.Graph) -> Dict[str, Any]:\n",
    "    \"\"\"\n",
    "    Calculate global network metrics.\n",
    "    \n",
    "    Parameters:\n",
    "    -----------\n",
    "    G : nx.Graph\n",
    "        Input NetworkX graph\n",
    "        \n",
    "    Returns:\n",
    "    --------\n",
    "    Dict[str, Any]\n",
    "        Dictionary containing global network metrics\n",
    "    \"\"\"\n",
    "    global_metrics = {\n",
    "        'num_nodes': G.number_of_nodes(),\n",
    "        'num_edges': G.number_of_edges(),\n",
    "        'density': nx.density(G),\n",
    "        'average_clustering': nx.average_clustering(G),\n",
    "        'is_connected': nx.is_connected(G),\n",
    "        'average_shortest_path_length': nx.average_shortest_path_length(G) if nx.is_connected(G) else None,\n",
    "        'diameter': nx.diameter(G) if nx.is_connected(G) else None,\n",
    "        'transitivity': nx.transitivity(G),\n",
    "        'number_connected_components': nx.number_connected_components(G),\n",
    "    }\n",
    "    \n",
    "    try:\n",
    "        global_metrics['graph_assortativity'] = nx.degree_assortativity_coefficient(G)\n",
    "    except:\n",
    "        global_metrics['graph_assortativity'] = None\n",
    "        \n",
    "    return global_metrics\n",
    "\n",
    "node_metrics = extract_node_metrics(graph)"
   ]
  },
  {
   "cell_type": "code",
   "execution_count": null,
   "metadata": {},
   "outputs": [],
   "source": []
  }
 ],
 "metadata": {
  "kernelspec": {
   "display_name": "mscds_dsrtn",
   "language": "python",
   "name": "python3"
  },
  "language_info": {
   "codemirror_mode": {
    "name": "ipython",
    "version": 3
   },
   "file_extension": ".py",
   "mimetype": "text/x-python",
   "name": "python",
   "nbconvert_exporter": "python",
   "pygments_lexer": "ipython3",
   "version": "3.11.10"
  }
 },
 "nbformat": 4,
 "nbformat_minor": 2
}
